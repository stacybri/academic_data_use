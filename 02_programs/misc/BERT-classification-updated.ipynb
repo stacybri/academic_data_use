{
 "cells": [
  {
   "cell_type": "code",
   "execution_count": 2,
   "id": "9c8c2d9d",
   "metadata": {},
   "outputs": [
    {
     "name": "stdout",
     "output_type": "stream",
     "text": [
      "Looking in indexes: https://pypi.org/simple, https://pip.repos.neuron.amazonaws.com\n",
      "Collecting transformers\n",
      "  Downloading transformers-4.21.3-py3-none-any.whl (4.7 MB)\n",
      "\u001b[2K     \u001b[90m━━━━━━━━━━━━━━━━━━━━━━━━━━━━━━━━━━━━━━━━\u001b[0m \u001b[32m4.7/4.7 MB\u001b[0m \u001b[31m50.4 MB/s\u001b[0m eta \u001b[36m0:00:00\u001b[0m:00:01\u001b[0m\n",
      "\u001b[?25hRequirement already satisfied: numpy>=1.17 in /home/ec2-user/anaconda3/envs/JupyterSystemEnv/lib/python3.7/site-packages (from transformers) (1.21.6)\n",
      "Requirement already satisfied: packaging>=20.0 in /home/ec2-user/anaconda3/envs/JupyterSystemEnv/lib/python3.7/site-packages (from transformers) (21.3)\n",
      "Collecting tokenizers!=0.11.3,<0.13,>=0.11.1\n",
      "  Downloading tokenizers-0.12.1-cp37-cp37m-manylinux_2_12_x86_64.manylinux2010_x86_64.whl (6.6 MB)\n",
      "\u001b[2K     \u001b[90m━━━━━━━━━━━━━━━━━━━━━━━━━━━━━━━━━━━━━━━━\u001b[0m \u001b[32m6.6/6.6 MB\u001b[0m \u001b[31m61.5 MB/s\u001b[0m eta \u001b[36m0:00:00\u001b[0m:00:01\u001b[0m\n",
      "\u001b[?25hCollecting tqdm>=4.27\n",
      "  Downloading tqdm-4.64.1-py2.py3-none-any.whl (78 kB)\n",
      "\u001b[2K     \u001b[90m━━━━━━━━━━━━━━━━━━━━━━━━━━━━━━━━━━━━━━━\u001b[0m \u001b[32m78.5/78.5 kB\u001b[0m \u001b[31m781.0 kB/s\u001b[0m eta \u001b[36m0:00:00\u001b[0ma \u001b[36m0:00:01\u001b[0m\n",
      "\u001b[?25hCollecting filelock\n",
      "  Downloading filelock-3.8.0-py3-none-any.whl (10 kB)\n",
      "Collecting huggingface-hub<1.0,>=0.1.0\n",
      "  Downloading huggingface_hub-0.9.1-py3-none-any.whl (120 kB)\n",
      "\u001b[2K     \u001b[90m━━━━━━━━━━━━━━━━━━━━━━━━━━━━━━━━━━━━━━\u001b[0m \u001b[32m120.7/120.7 kB\u001b[0m \u001b[31m30.8 MB/s\u001b[0m eta \u001b[36m0:00:00\u001b[0m\n",
      "\u001b[?25hRequirement already satisfied: requests in /home/ec2-user/anaconda3/envs/JupyterSystemEnv/lib/python3.7/site-packages (from transformers) (2.28.1)\n",
      "Requirement already satisfied: importlib-metadata in /home/ec2-user/anaconda3/envs/JupyterSystemEnv/lib/python3.7/site-packages (from transformers) (4.11.4)\n",
      "Requirement already satisfied: pyyaml>=5.1 in /home/ec2-user/anaconda3/envs/JupyterSystemEnv/lib/python3.7/site-packages (from transformers) (5.4.1)\n",
      "Collecting regex!=2019.12.17\n",
      "  Downloading regex-2022.9.11-cp37-cp37m-manylinux_2_17_x86_64.manylinux2014_x86_64.whl (752 kB)\n",
      "\u001b[2K     \u001b[90m━━━━━━━━━━━━━━━━━━━━━━━━━━━━━━━━━━━━━━\u001b[0m \u001b[32m752.7/752.7 kB\u001b[0m \u001b[31m25.9 MB/s\u001b[0m eta \u001b[36m0:00:00\u001b[0m\n",
      "\u001b[?25hRequirement already satisfied: typing-extensions>=3.7.4.3 in /home/ec2-user/anaconda3/envs/JupyterSystemEnv/lib/python3.7/site-packages (from huggingface-hub<1.0,>=0.1.0->transformers) (4.3.0)\n",
      "Requirement already satisfied: pyparsing!=3.0.5,>=2.0.2 in /home/ec2-user/anaconda3/envs/JupyterSystemEnv/lib/python3.7/site-packages (from packaging>=20.0->transformers) (3.0.9)\n",
      "Requirement already satisfied: zipp>=0.5 in /home/ec2-user/anaconda3/envs/JupyterSystemEnv/lib/python3.7/site-packages (from importlib-metadata->transformers) (3.8.1)\n",
      "Requirement already satisfied: certifi>=2017.4.17 in /home/ec2-user/anaconda3/envs/JupyterSystemEnv/lib/python3.7/site-packages (from requests->transformers) (2022.6.15)\n",
      "Requirement already satisfied: idna<4,>=2.5 in /home/ec2-user/anaconda3/envs/JupyterSystemEnv/lib/python3.7/site-packages (from requests->transformers) (3.3)\n",
      "Requirement already satisfied: charset-normalizer<3,>=2 in /home/ec2-user/anaconda3/envs/JupyterSystemEnv/lib/python3.7/site-packages (from requests->transformers) (2.1.1)\n",
      "Requirement already satisfied: urllib3<1.27,>=1.21.1 in /home/ec2-user/anaconda3/envs/JupyterSystemEnv/lib/python3.7/site-packages (from requests->transformers) (1.26.8)\n",
      "Installing collected packages: tokenizers, tqdm, regex, filelock, huggingface-hub, transformers\n",
      "Successfully installed filelock-3.8.0 huggingface-hub-0.9.1 regex-2022.9.11 tokenizers-0.12.1 tqdm-4.64.1 transformers-4.21.3\n"
     ]
    }
   ],
   "source": [
    "!pip install transformers"
   ]
  },
  {
   "cell_type": "code",
   "execution_count": 2,
   "id": "49e13580",
   "metadata": {},
   "outputs": [],
   "source": [
    "import transformers\n",
    "import pandas as pd\n",
    "import numpy as np"
   ]
  },
  {
   "cell_type": "code",
   "execution_count": 3,
   "id": "5d1b6d69",
   "metadata": {},
   "outputs": [],
   "source": [
    "# load dataset\n",
    "df = pd.read_csv('2000.csv')"
   ]
  },
  {
   "cell_type": "code",
   "execution_count": 4,
   "id": "6f174a86",
   "metadata": {},
   "outputs": [
    {
     "data": {
      "text/html": [
       "<div>\n",
       "<style scoped>\n",
       "    .dataframe tbody tr th:only-of-type {\n",
       "        vertical-align: middle;\n",
       "    }\n",
       "\n",
       "    .dataframe tbody tr th {\n",
       "        vertical-align: top;\n",
       "    }\n",
       "\n",
       "    .dataframe thead th {\n",
       "        text-align: right;\n",
       "    }\n",
       "</style>\n",
       "<table border=\"1\" class=\"dataframe\">\n",
       "  <thead>\n",
       "    <tr style=\"text-align: right;\">\n",
       "      <th></th>\n",
       "      <th>id</th>\n",
       "      <th>text</th>\n",
       "      <th>category</th>\n",
       "    </tr>\n",
       "  </thead>\n",
       "  <tbody>\n",
       "    <tr>\n",
       "      <th>0</th>\n",
       "      <td>20604786</td>\n",
       "      <td>This paper uses a new data set to estimate the...</td>\n",
       "      <td>Yes</td>\n",
       "    </tr>\n",
       "    <tr>\n",
       "      <th>1</th>\n",
       "      <td>8334260</td>\n",
       "      <td>This study was aimed at testing the hypothesis...</td>\n",
       "      <td>Yes</td>\n",
       "    </tr>\n",
       "    <tr>\n",
       "      <th>2</th>\n",
       "      <td>62812273</td>\n",
       "      <td>This paper considers a flexible panel data sam...</td>\n",
       "      <td>Yes</td>\n",
       "    </tr>\n",
       "    <tr>\n",
       "      <th>3</th>\n",
       "      <td>21740546</td>\n",
       "      <td>This project describes application of an evide...</td>\n",
       "      <td>Yes</td>\n",
       "    </tr>\n",
       "    <tr>\n",
       "      <th>4</th>\n",
       "      <td>154379635</td>\n",
       "      <td>Security regulators and the business press hav...</td>\n",
       "      <td>Yes</td>\n",
       "    </tr>\n",
       "  </tbody>\n",
       "</table>\n",
       "</div>"
      ],
      "text/plain": [
       "          id                                               text category\n",
       "0   20604786  This paper uses a new data set to estimate the...      Yes\n",
       "1    8334260  This study was aimed at testing the hypothesis...      Yes\n",
       "2   62812273  This paper considers a flexible panel data sam...      Yes\n",
       "3   21740546  This project describes application of an evide...      Yes\n",
       "4  154379635  Security regulators and the business press hav...      Yes"
      ]
     },
     "execution_count": 4,
     "metadata": {},
     "output_type": "execute_result"
    }
   ],
   "source": [
    "df.head(5)"
   ]
  },
  {
   "cell_type": "code",
   "execution_count": 5,
   "id": "67ffaea8",
   "metadata": {},
   "outputs": [
    {
     "data": {
      "text/html": [
       "<div>\n",
       "<style scoped>\n",
       "    .dataframe tbody tr th:only-of-type {\n",
       "        vertical-align: middle;\n",
       "    }\n",
       "\n",
       "    .dataframe tbody tr th {\n",
       "        vertical-align: top;\n",
       "    }\n",
       "\n",
       "    .dataframe thead th {\n",
       "        text-align: right;\n",
       "    }\n",
       "</style>\n",
       "<table border=\"1\" class=\"dataframe\">\n",
       "  <thead>\n",
       "    <tr style=\"text-align: right;\">\n",
       "      <th></th>\n",
       "      <th>id</th>\n",
       "      <th>text</th>\n",
       "      <th>category</th>\n",
       "      <th>label</th>\n",
       "    </tr>\n",
       "  </thead>\n",
       "  <tbody>\n",
       "    <tr>\n",
       "      <th>0</th>\n",
       "      <td>20604786</td>\n",
       "      <td>This paper uses a new data set to estimate the...</td>\n",
       "      <td>Yes</td>\n",
       "      <td>1</td>\n",
       "    </tr>\n",
       "    <tr>\n",
       "      <th>1</th>\n",
       "      <td>8334260</td>\n",
       "      <td>This study was aimed at testing the hypothesis...</td>\n",
       "      <td>Yes</td>\n",
       "      <td>1</td>\n",
       "    </tr>\n",
       "    <tr>\n",
       "      <th>2</th>\n",
       "      <td>62812273</td>\n",
       "      <td>This paper considers a flexible panel data sam...</td>\n",
       "      <td>Yes</td>\n",
       "      <td>1</td>\n",
       "    </tr>\n",
       "    <tr>\n",
       "      <th>3</th>\n",
       "      <td>21740546</td>\n",
       "      <td>This project describes application of an evide...</td>\n",
       "      <td>Yes</td>\n",
       "      <td>1</td>\n",
       "    </tr>\n",
       "    <tr>\n",
       "      <th>4</th>\n",
       "      <td>154379635</td>\n",
       "      <td>Security regulators and the business press hav...</td>\n",
       "      <td>Yes</td>\n",
       "      <td>1</td>\n",
       "    </tr>\n",
       "  </tbody>\n",
       "</table>\n",
       "</div>"
      ],
      "text/plain": [
       "          id                                               text category  \\\n",
       "0   20604786  This paper uses a new data set to estimate the...      Yes   \n",
       "1    8334260  This study was aimed at testing the hypothesis...      Yes   \n",
       "2   62812273  This paper considers a flexible panel data sam...      Yes   \n",
       "3   21740546  This project describes application of an evide...      Yes   \n",
       "4  154379635  Security regulators and the business press hav...      Yes   \n",
       "\n",
       "   label  \n",
       "0      1  \n",
       "1      1  \n",
       "2      1  \n",
       "3      1  \n",
       "4      1  "
      ]
     },
     "execution_count": 5,
     "metadata": {},
     "output_type": "execute_result"
    }
   ],
   "source": [
    "label_dict = {'Yes': 1, 'No': 0}\n",
    "df['label'] = df.category.replace(label_dict)\n",
    "df.head()"
   ]
  },
  {
   "cell_type": "code",
   "execution_count": 6,
   "id": "38c545b7",
   "metadata": {},
   "outputs": [
    {
     "data": {
      "text/plain": [
       "1    1194\n",
       "0     816\n",
       "Name: label, dtype: int64"
      ]
     },
     "execution_count": 6,
     "metadata": {},
     "output_type": "execute_result"
    }
   ],
   "source": [
    "df['label'].value_counts()"
   ]
  },
  {
   "cell_type": "code",
   "execution_count": 7,
   "id": "107df1f5",
   "metadata": {},
   "outputs": [],
   "source": [
    "from transformers import AutoTokenizer\n",
    "tokenizer = AutoTokenizer.from_pretrained(\"distilbert-base-cased\")"
   ]
  },
  {
   "cell_type": "code",
   "execution_count": 8,
   "id": "04a43084",
   "metadata": {},
   "outputs": [
    {
     "name": "stderr",
     "output_type": "stream",
     "text": [
      "Token indices sequence length is longer than the specified maximum sequence length for this model (568 > 512). Running this sequence through the model will result in indexing errors\n"
     ]
    }
   ],
   "source": [
    "df['tokens'] = df.text.apply(tokenizer)"
   ]
  },
  {
   "cell_type": "code",
   "execution_count": 9,
   "id": "01745c12",
   "metadata": {},
   "outputs": [],
   "source": [
    "len_token = []\n",
    "for i in range(len(df)):\n",
    "    len_token.append(len(df.iloc[i]['tokens']['input_ids']))"
   ]
  },
  {
   "cell_type": "code",
   "execution_count": 10,
   "id": "bd3b5cd2",
   "metadata": {},
   "outputs": [
    {
     "name": "stdout",
     "output_type": "stream",
     "text": [
      "2010\n"
     ]
    }
   ],
   "source": [
    "len_token = []\n",
    "for i in range(len(df)):\n",
    "    len_token.append(len(df.iloc[i]['tokens']['input_ids']))"
   ]
  },
  {
   "cell_type": "code",
   "execution_count": 11,
   "id": "bde1c383",
   "metadata": {},
   "outputs": [],
   "source": [
    "df['len_token'] = pd.DataFrame(len_token, columns = ['len_token'])"
   ]
  },
  {
   "cell_type": "code",
   "execution_count": 12,
   "id": "c18ff59e",
   "metadata": {},
   "outputs": [
    {
     "data": {
      "text/html": [
       "<div>\n",
       "<style scoped>\n",
       "    .dataframe tbody tr th:only-of-type {\n",
       "        vertical-align: middle;\n",
       "    }\n",
       "\n",
       "    .dataframe tbody tr th {\n",
       "        vertical-align: top;\n",
       "    }\n",
       "\n",
       "    .dataframe thead th {\n",
       "        text-align: right;\n",
       "    }\n",
       "</style>\n",
       "<table border=\"1\" class=\"dataframe\">\n",
       "  <thead>\n",
       "    <tr style=\"text-align: right;\">\n",
       "      <th></th>\n",
       "      <th>id</th>\n",
       "      <th>text</th>\n",
       "      <th>category</th>\n",
       "      <th>label</th>\n",
       "      <th>tokens</th>\n",
       "      <th>len_token</th>\n",
       "    </tr>\n",
       "  </thead>\n",
       "  <tbody>\n",
       "    <tr>\n",
       "      <th>0</th>\n",
       "      <td>20604786</td>\n",
       "      <td>This paper uses a new data set to estimate the...</td>\n",
       "      <td>Yes</td>\n",
       "      <td>1</td>\n",
       "      <td>[input_ids, attention_mask]</td>\n",
       "      <td>128</td>\n",
       "    </tr>\n",
       "    <tr>\n",
       "      <th>1</th>\n",
       "      <td>8334260</td>\n",
       "      <td>This study was aimed at testing the hypothesis...</td>\n",
       "      <td>Yes</td>\n",
       "      <td>1</td>\n",
       "      <td>[input_ids, attention_mask]</td>\n",
       "      <td>271</td>\n",
       "    </tr>\n",
       "    <tr>\n",
       "      <th>2</th>\n",
       "      <td>62812273</td>\n",
       "      <td>This paper considers a flexible panel data sam...</td>\n",
       "      <td>Yes</td>\n",
       "      <td>1</td>\n",
       "      <td>[input_ids, attention_mask]</td>\n",
       "      <td>216</td>\n",
       "    </tr>\n",
       "    <tr>\n",
       "      <th>3</th>\n",
       "      <td>21740546</td>\n",
       "      <td>This project describes application of an evide...</td>\n",
       "      <td>Yes</td>\n",
       "      <td>1</td>\n",
       "      <td>[input_ids, attention_mask]</td>\n",
       "      <td>169</td>\n",
       "    </tr>\n",
       "    <tr>\n",
       "      <th>4</th>\n",
       "      <td>154379635</td>\n",
       "      <td>Security regulators and the business press hav...</td>\n",
       "      <td>Yes</td>\n",
       "      <td>1</td>\n",
       "      <td>[input_ids, attention_mask]</td>\n",
       "      <td>212</td>\n",
       "    </tr>\n",
       "  </tbody>\n",
       "</table>\n",
       "</div>"
      ],
      "text/plain": [
       "          id                                               text category  \\\n",
       "0   20604786  This paper uses a new data set to estimate the...      Yes   \n",
       "1    8334260  This study was aimed at testing the hypothesis...      Yes   \n",
       "2   62812273  This paper considers a flexible panel data sam...      Yes   \n",
       "3   21740546  This project describes application of an evide...      Yes   \n",
       "4  154379635  Security regulators and the business press hav...      Yes   \n",
       "\n",
       "   label                       tokens  len_token  \n",
       "0      1  [input_ids, attention_mask]        128  \n",
       "1      1  [input_ids, attention_mask]        271  \n",
       "2      1  [input_ids, attention_mask]        216  \n",
       "3      1  [input_ids, attention_mask]        169  \n",
       "4      1  [input_ids, attention_mask]        212  "
      ]
     },
     "execution_count": 12,
     "metadata": {},
     "output_type": "execute_result"
    }
   ],
   "source": [
    "df.head(5)"
   ]
  },
  {
   "cell_type": "code",
   "execution_count": 13,
   "id": "47c52508",
   "metadata": {},
   "outputs": [
    {
     "data": {
      "text/plain": [
       "1934"
      ]
     },
     "execution_count": 13,
     "metadata": {},
     "output_type": "execute_result"
    }
   ],
   "source": [
    "len(df[df['len_token']<512])"
   ]
  },
  {
   "cell_type": "code",
   "execution_count": 14,
   "id": "fd907a58",
   "metadata": {},
   "outputs": [],
   "source": [
    "df = df[df['len_token']<512]"
   ]
  },
  {
   "cell_type": "code",
   "execution_count": 15,
   "id": "44ca0dd4",
   "metadata": {},
   "outputs": [],
   "source": [
    "df = df.drop(['id','category','tokens','len_token'], axis=1)  "
   ]
  },
  {
   "cell_type": "code",
   "execution_count": 16,
   "id": "9b666ede",
   "metadata": {},
   "outputs": [
    {
     "data": {
      "text/plain": [
       "1    1140\n",
       "0     794\n",
       "Name: label, dtype: int64"
      ]
     },
     "execution_count": 16,
     "metadata": {},
     "output_type": "execute_result"
    }
   ],
   "source": [
    "df['label'].value_counts()"
   ]
  },
  {
   "cell_type": "code",
   "execution_count": 17,
   "id": "8cbb69b6",
   "metadata": {},
   "outputs": [],
   "source": [
    "df = pd.concat([df, df[df['label'] == 0][:346]])"
   ]
  },
  {
   "cell_type": "code",
   "execution_count": 18,
   "id": "cce64a5f",
   "metadata": {},
   "outputs": [
    {
     "data": {
      "text/html": [
       "<div>\n",
       "<style scoped>\n",
       "    .dataframe tbody tr th:only-of-type {\n",
       "        vertical-align: middle;\n",
       "    }\n",
       "\n",
       "    .dataframe tbody tr th {\n",
       "        vertical-align: top;\n",
       "    }\n",
       "\n",
       "    .dataframe thead th {\n",
       "        text-align: right;\n",
       "    }\n",
       "</style>\n",
       "<table border=\"1\" class=\"dataframe\">\n",
       "  <thead>\n",
       "    <tr style=\"text-align: right;\">\n",
       "      <th></th>\n",
       "      <th></th>\n",
       "      <th>text</th>\n",
       "    </tr>\n",
       "    <tr>\n",
       "      <th>label</th>\n",
       "      <th>data_type</th>\n",
       "      <th></th>\n",
       "    </tr>\n",
       "  </thead>\n",
       "  <tbody>\n",
       "    <tr>\n",
       "      <th rowspan=\"2\" valign=\"top\">0</th>\n",
       "      <th>test</th>\n",
       "      <td>326</td>\n",
       "    </tr>\n",
       "    <tr>\n",
       "      <th>train</th>\n",
       "      <td>814</td>\n",
       "    </tr>\n",
       "    <tr>\n",
       "      <th rowspan=\"2\" valign=\"top\">1</th>\n",
       "      <th>test</th>\n",
       "      <td>228</td>\n",
       "    </tr>\n",
       "    <tr>\n",
       "      <th>train</th>\n",
       "      <td>912</td>\n",
       "    </tr>\n",
       "  </tbody>\n",
       "</table>\n",
       "</div>"
      ],
      "text/plain": [
       "                 text\n",
       "label data_type      \n",
       "0     test        326\n",
       "      train       814\n",
       "1     test        228\n",
       "      train       912"
      ]
     },
     "execution_count": 18,
     "metadata": {},
     "output_type": "execute_result"
    }
   ],
   "source": [
    "from sklearn.model_selection import train_test_split\n",
    "X_train, X_test, y_train, y_test = train_test_split(\n",
    "    df.index.values,\n",
    "    df.label.values,\n",
    "    test_size = 0.2,\n",
    "    random_state = 4,\n",
    "    stratify = df.label.values\n",
    ")\n",
    "\n",
    "df['data_type'] = ['not_set']*df.shape[0]\n",
    "df.loc[X_train, 'data_type'] = 'train'\n",
    "df.loc[X_test, 'data_type'] = 'test'\n",
    "df.groupby(['label','data_type']).count()"
   ]
  },
  {
   "cell_type": "code",
   "execution_count": 19,
   "id": "fefda0f8",
   "metadata": {},
   "outputs": [
    {
     "data": {
      "text/plain": [
       "train    1726\n",
       "test      554\n",
       "Name: data_type, dtype: int64"
      ]
     },
     "execution_count": 19,
     "metadata": {},
     "output_type": "execute_result"
    }
   ],
   "source": [
    "df.data_type.value_counts()"
   ]
  },
  {
   "cell_type": "code",
   "execution_count": 20,
   "id": "e9a21e7f",
   "metadata": {},
   "outputs": [],
   "source": [
    "df_train = df.loc[df['data_type'] == 'train']\n",
    "df_test = df.loc[df['data_type'] == 'test']"
   ]
  },
  {
   "cell_type": "code",
   "execution_count": 21,
   "id": "2f0eaaf3",
   "metadata": {},
   "outputs": [],
   "source": [
    "df_train.to_csv('train_Bdoc.csv', index=False)\n",
    "df_test.to_csv('test_Bdoc.csv', index=False)"
   ]
  },
  {
   "cell_type": "code",
   "execution_count": 22,
   "id": "579edf96",
   "metadata": {},
   "outputs": [
    {
     "name": "stdout",
     "output_type": "stream",
     "text": [
      "huggingface/tokenizers: The current process just got forked, after parallelism has already been used. Disabling parallelism to avoid deadlocks...\n",
      "To disable this warning, you can either:\n",
      "\t- Avoid using `tokenizers` before the fork if possible\n",
      "\t- Explicitly set the environment variable TOKENIZERS_PARALLELISM=(true | false)\n",
      "Looking in indexes: https://pypi.org/simple, https://pip.repos.neuron.amazonaws.com\n",
      "Requirement already satisfied: datasets in /home/ec2-user/anaconda3/envs/amazonei_pytorch_latest_p37/lib/python3.7/site-packages (2.4.0)\n",
      "Requirement already satisfied: responses<0.19 in /home/ec2-user/anaconda3/envs/amazonei_pytorch_latest_p37/lib/python3.7/site-packages (from datasets) (0.18.0)\n",
      "Requirement already satisfied: pandas in /home/ec2-user/anaconda3/envs/amazonei_pytorch_latest_p37/lib/python3.7/site-packages (from datasets) (1.3.5)\n",
      "Requirement already satisfied: dill<0.3.6 in /home/ec2-user/anaconda3/envs/amazonei_pytorch_latest_p37/lib/python3.7/site-packages (from datasets) (0.3.4)\n",
      "Requirement already satisfied: multiprocess in /home/ec2-user/anaconda3/envs/amazonei_pytorch_latest_p37/lib/python3.7/site-packages (from datasets) (0.70.12.2)\n",
      "Requirement already satisfied: numpy>=1.17 in /home/ec2-user/anaconda3/envs/amazonei_pytorch_latest_p37/lib/python3.7/site-packages (from datasets) (1.21.5)\n",
      "Requirement already satisfied: huggingface-hub<1.0.0,>=0.1.0 in /home/ec2-user/anaconda3/envs/amazonei_pytorch_latest_p37/lib/python3.7/site-packages (from datasets) (0.4.0)\n",
      "Requirement already satisfied: packaging in /home/ec2-user/anaconda3/envs/amazonei_pytorch_latest_p37/lib/python3.7/site-packages (from datasets) (21.3)\n",
      "Requirement already satisfied: fsspec[http]>=2021.11.1 in /home/ec2-user/anaconda3/envs/amazonei_pytorch_latest_p37/lib/python3.7/site-packages (from datasets) (2022.2.0)\n",
      "Requirement already satisfied: requests>=2.19.0 in /home/ec2-user/anaconda3/envs/amazonei_pytorch_latest_p37/lib/python3.7/site-packages (from datasets) (2.27.1)\n",
      "Requirement already satisfied: importlib-metadata in /home/ec2-user/anaconda3/envs/amazonei_pytorch_latest_p37/lib/python3.7/site-packages (from datasets) (4.11.3)\n",
      "Requirement already satisfied: pyarrow>=6.0.0 in /home/ec2-user/anaconda3/envs/amazonei_pytorch_latest_p37/lib/python3.7/site-packages (from datasets) (9.0.0)\n",
      "Requirement already satisfied: aiohttp in /home/ec2-user/anaconda3/envs/amazonei_pytorch_latest_p37/lib/python3.7/site-packages (from datasets) (3.8.1)\n",
      "Requirement already satisfied: xxhash in /home/ec2-user/anaconda3/envs/amazonei_pytorch_latest_p37/lib/python3.7/site-packages (from datasets) (3.0.0)\n",
      "Requirement already satisfied: tqdm>=4.62.1 in /home/ec2-user/anaconda3/envs/amazonei_pytorch_latest_p37/lib/python3.7/site-packages (from datasets) (4.63.0)\n",
      "Requirement already satisfied: typing-extensions>=3.7.4.3 in /home/ec2-user/anaconda3/envs/amazonei_pytorch_latest_p37/lib/python3.7/site-packages (from huggingface-hub<1.0.0,>=0.1.0->datasets) (4.1.1)\n",
      "Requirement already satisfied: pyyaml in /home/ec2-user/anaconda3/envs/amazonei_pytorch_latest_p37/lib/python3.7/site-packages (from huggingface-hub<1.0.0,>=0.1.0->datasets) (5.4.1)\n",
      "Requirement already satisfied: filelock in /home/ec2-user/anaconda3/envs/amazonei_pytorch_latest_p37/lib/python3.7/site-packages (from huggingface-hub<1.0.0,>=0.1.0->datasets) (3.6.0)\n",
      "Requirement already satisfied: pyparsing!=3.0.5,>=2.0.2 in /home/ec2-user/anaconda3/envs/amazonei_pytorch_latest_p37/lib/python3.7/site-packages (from packaging->datasets) (3.0.7)\n",
      "Requirement already satisfied: urllib3<1.27,>=1.21.1 in /home/ec2-user/anaconda3/envs/amazonei_pytorch_latest_p37/lib/python3.7/site-packages (from requests>=2.19.0->datasets) (1.26.8)\n",
      "Requirement already satisfied: idna<4,>=2.5 in /home/ec2-user/anaconda3/envs/amazonei_pytorch_latest_p37/lib/python3.7/site-packages (from requests>=2.19.0->datasets) (3.3)\n",
      "Requirement already satisfied: certifi>=2017.4.17 in /home/ec2-user/anaconda3/envs/amazonei_pytorch_latest_p37/lib/python3.7/site-packages (from requests>=2.19.0->datasets) (2021.10.8)\n",
      "Requirement already satisfied: charset-normalizer~=2.0.0 in /home/ec2-user/anaconda3/envs/amazonei_pytorch_latest_p37/lib/python3.7/site-packages (from requests>=2.19.0->datasets) (2.0.12)\n",
      "Requirement already satisfied: frozenlist>=1.1.1 in /home/ec2-user/anaconda3/envs/amazonei_pytorch_latest_p37/lib/python3.7/site-packages (from aiohttp->datasets) (1.3.0)\n",
      "Requirement already satisfied: multidict<7.0,>=4.5 in /home/ec2-user/anaconda3/envs/amazonei_pytorch_latest_p37/lib/python3.7/site-packages (from aiohttp->datasets) (6.0.2)\n",
      "Requirement already satisfied: async-timeout<5.0,>=4.0.0a3 in /home/ec2-user/anaconda3/envs/amazonei_pytorch_latest_p37/lib/python3.7/site-packages (from aiohttp->datasets) (4.0.2)\n",
      "Requirement already satisfied: aiosignal>=1.1.2 in /home/ec2-user/anaconda3/envs/amazonei_pytorch_latest_p37/lib/python3.7/site-packages (from aiohttp->datasets) (1.2.0)\n",
      "Requirement already satisfied: attrs>=17.3.0 in /home/ec2-user/anaconda3/envs/amazonei_pytorch_latest_p37/lib/python3.7/site-packages (from aiohttp->datasets) (21.4.0)\n",
      "Requirement already satisfied: asynctest==0.13.0 in /home/ec2-user/anaconda3/envs/amazonei_pytorch_latest_p37/lib/python3.7/site-packages (from aiohttp->datasets) (0.13.0)\n",
      "Requirement already satisfied: yarl<2.0,>=1.0 in /home/ec2-user/anaconda3/envs/amazonei_pytorch_latest_p37/lib/python3.7/site-packages (from aiohttp->datasets) (1.7.2)\n",
      "Requirement already satisfied: zipp>=0.5 in /home/ec2-user/anaconda3/envs/amazonei_pytorch_latest_p37/lib/python3.7/site-packages (from importlib-metadata->datasets) (3.7.0)\n",
      "Requirement already satisfied: python-dateutil>=2.7.3 in /home/ec2-user/anaconda3/envs/amazonei_pytorch_latest_p37/lib/python3.7/site-packages (from pandas->datasets) (2.8.2)\n",
      "Requirement already satisfied: pytz>=2017.3 in /home/ec2-user/anaconda3/envs/amazonei_pytorch_latest_p37/lib/python3.7/site-packages (from pandas->datasets) (2021.3)\n",
      "Requirement already satisfied: six>=1.5 in /home/ec2-user/anaconda3/envs/amazonei_pytorch_latest_p37/lib/python3.7/site-packages (from python-dateutil>=2.7.3->pandas->datasets) (1.16.0)\n"
     ]
    }
   ],
   "source": [
    "!pip install datasets"
   ]
  },
  {
   "cell_type": "code",
   "execution_count": 23,
   "id": "fa15903b",
   "metadata": {},
   "outputs": [],
   "source": [
    "import datasets"
   ]
  },
  {
   "cell_type": "code",
   "execution_count": 24,
   "id": "f0e355b7",
   "metadata": {},
   "outputs": [
    {
     "name": "stderr",
     "output_type": "stream",
     "text": [
      "Using custom data configuration default-7526be128f8da261\n"
     ]
    },
    {
     "name": "stdout",
     "output_type": "stream",
     "text": [
      "Downloading and preparing dataset csv/default to /home/ec2-user/.cache/huggingface/datasets/csv/default-7526be128f8da261/0.0.0/652c3096f041ee27b04d2232d41f10547a8fecda3e284a79a0ec4053c916ef7a...\n"
     ]
    },
    {
     "data": {
      "application/vnd.jupyter.widget-view+json": {
       "model_id": "836a1f8ac3714b83a2e46233f11afde1",
       "version_major": 2,
       "version_minor": 0
      },
      "text/plain": [
       "Downloading data files:   0%|          | 0/2 [00:00<?, ?it/s]"
      ]
     },
     "metadata": {},
     "output_type": "display_data"
    },
    {
     "data": {
      "application/vnd.jupyter.widget-view+json": {
       "model_id": "1d16c2e343064c628cb381411d0f9f69",
       "version_major": 2,
       "version_minor": 0
      },
      "text/plain": [
       "Extracting data files:   0%|          | 0/2 [00:00<?, ?it/s]"
      ]
     },
     "metadata": {},
     "output_type": "display_data"
    },
    {
     "data": {
      "application/vnd.jupyter.widget-view+json": {
       "model_id": "",
       "version_major": 2,
       "version_minor": 0
      },
      "text/plain": [
       "0 tables [00:00, ? tables/s]"
      ]
     },
     "metadata": {},
     "output_type": "display_data"
    },
    {
     "data": {
      "application/vnd.jupyter.widget-view+json": {
       "model_id": "",
       "version_major": 2,
       "version_minor": 0
      },
      "text/plain": [
       "0 tables [00:00, ? tables/s]"
      ]
     },
     "metadata": {},
     "output_type": "display_data"
    },
    {
     "name": "stdout",
     "output_type": "stream",
     "text": [
      "Dataset csv downloaded and prepared to /home/ec2-user/.cache/huggingface/datasets/csv/default-7526be128f8da261/0.0.0/652c3096f041ee27b04d2232d41f10547a8fecda3e284a79a0ec4053c916ef7a. Subsequent calls will reuse this data.\n"
     ]
    },
    {
     "data": {
      "application/vnd.jupyter.widget-view+json": {
       "model_id": "f9d24438cca844a7bfc417f9e0750d30",
       "version_major": 2,
       "version_minor": 0
      },
      "text/plain": [
       "  0%|          | 0/2 [00:00<?, ?it/s]"
      ]
     },
     "metadata": {},
     "output_type": "display_data"
    },
    {
     "data": {
      "text/plain": [
       "DatasetDict({\n",
       "    train: Dataset({\n",
       "        features: ['text', 'label', 'data_type'],\n",
       "        num_rows: 1726\n",
       "    })\n",
       "    test: Dataset({\n",
       "        features: ['text', 'label', 'data_type'],\n",
       "        num_rows: 554\n",
       "    })\n",
       "})"
      ]
     },
     "execution_count": 24,
     "metadata": {},
     "output_type": "execute_result"
    }
   ],
   "source": [
    "dataset = datasets.load_dataset('csv', data_files = {'train':'train_Bdoc.csv', 'test':'test_Bdoc.csv'})\n",
    "dataset"
   ]
  },
  {
   "cell_type": "code",
   "execution_count": 25,
   "id": "a9e78231",
   "metadata": {},
   "outputs": [],
   "source": [
    "#text = \"After a morning of Thrift Store hunting, a friend and I were thinking of lunch, and he ... \" #this sentence is very long, Its length is more than 512. In order to save space, not all of them are shown here\n",
    "# text = tokenizer.tokenize(text)\n",
    "# if len(text) > 512:\n",
    "#     text = text[:512]"
   ]
  },
  {
   "cell_type": "code",
   "execution_count": 26,
   "id": "200a4427",
   "metadata": {},
   "outputs": [
    {
     "data": {
      "application/vnd.jupyter.widget-view+json": {
       "model_id": "201d444a49084153b19f49e44323b5b4",
       "version_major": 2,
       "version_minor": 0
      },
      "text/plain": [
       "  0%|          | 0/2 [00:00<?, ?ba/s]"
      ]
     },
     "metadata": {},
     "output_type": "display_data"
    },
    {
     "data": {
      "application/vnd.jupyter.widget-view+json": {
       "model_id": "2605db7f864b411da040fdb14b86125e",
       "version_major": 2,
       "version_minor": 0
      },
      "text/plain": [
       "  0%|          | 0/1 [00:00<?, ?ba/s]"
      ]
     },
     "metadata": {},
     "output_type": "display_data"
    }
   ],
   "source": [
    "from transformers import AutoTokenizer\n",
    "tokenizer = AutoTokenizer.from_pretrained(\"distilbert-base-cased\")\n",
    "def tokenize_function(examples):\n",
    "    return tokenizer(examples[\"text\"], padding= 'max_length', truncation=True)\n",
    "tokenized_datasets = dataset.map(tokenize_function, batched=True)"
   ]
  },
  {
   "cell_type": "code",
   "execution_count": 27,
   "id": "3c3c646c",
   "metadata": {},
   "outputs": [
    {
     "name": "stderr",
     "output_type": "stream",
     "text": [
      "Some weights of the model checkpoint at distilbert-base-cased were not used when initializing DistilBertForSequenceClassification: ['vocab_projector.weight', 'vocab_transform.bias', 'vocab_layer_norm.weight', 'vocab_layer_norm.bias', 'vocab_transform.weight', 'vocab_projector.bias']\n",
      "- This IS expected if you are initializing DistilBertForSequenceClassification from the checkpoint of a model trained on another task or with another architecture (e.g. initializing a BertForSequenceClassification model from a BertForPreTraining model).\n",
      "- This IS NOT expected if you are initializing DistilBertForSequenceClassification from the checkpoint of a model that you expect to be exactly identical (initializing a BertForSequenceClassification model from a BertForSequenceClassification model).\n",
      "Some weights of DistilBertForSequenceClassification were not initialized from the model checkpoint at distilbert-base-cased and are newly initialized: ['classifier.bias', 'classifier.weight', 'pre_classifier.bias', 'pre_classifier.weight']\n",
      "You should probably TRAIN this model on a down-stream task to be able to use it for predictions and inference.\n"
     ]
    }
   ],
   "source": [
    "from transformers import AutoModelForSequenceClassification\n",
    "checkpoint = \"distilbert-base-cased\"\n",
    "model = AutoModelForSequenceClassification.from_pretrained(checkpoint, num_labels=2)"
   ]
  },
  {
   "cell_type": "code",
   "execution_count": null,
   "id": "b262d9ba",
   "metadata": {},
   "outputs": [],
   "source": []
  },
  {
   "cell_type": "code",
   "execution_count": 28,
   "id": "80433a2b",
   "metadata": {},
   "outputs": [],
   "source": [
    "import numpy as np\n",
    "from datasets import load_metric\n",
    "metric = load_metric(\"accuracy\")\n",
    "def compute_metrics(eval_pred):\n",
    "    logits, labels = eval_pred\n",
    "    predictions = np.argmax(logits, axis=-1)\n",
    "    return metric.compute(predictions=predictions, references=labels)"
   ]
  },
  {
   "cell_type": "code",
   "execution_count": 45,
   "id": "39a65119",
   "metadata": {},
   "outputs": [
    {
     "name": "stderr",
     "output_type": "stream",
     "text": [
      "PyTorch: setting up devices\n",
      "The default value for the training argument `--report_to` will change in v5 (from all installed integrations to none). In v5, you will need to use `--report_to all` to get the same behavior as now. You should start updating your code and make this info disappear :-).\n",
      "The following columns in the training set  don't have a corresponding argument in `DistilBertForSequenceClassification.forward` and have been ignored: data_type, text. If data_type, text are not expected by `DistilBertForSequenceClassification.forward`,  you can safely ignore this message.\n",
      "/home/ec2-user/anaconda3/envs/amazonei_pytorch_latest_p37/lib/python3.7/site-packages/transformers/optimization.py:309: FutureWarning: This implementation of AdamW is deprecated and will be removed in a future version. Use the PyTorch implementation torch.optim.AdamW instead, or set `no_deprecation_warning=True` to disable this warning\n",
      "  FutureWarning,\n",
      "***** Running training *****\n",
      "  Num examples = 1726\n",
      "  Num Epochs = 1\n",
      "  Instantaneous batch size per device = 8\n",
      "  Total train batch size (w. parallel, distributed & accumulation) = 8\n",
      "  Gradient Accumulation steps = 1\n",
      "  Total optimization steps = 216\n"
     ]
    },
    {
     "data": {
      "text/html": [
       "\n",
       "    <div>\n",
       "      \n",
       "      <progress value='216' max='216' style='width:300px; height:20px; vertical-align: middle;'></progress>\n",
       "      [216/216 06:32, Epoch 1/1]\n",
       "    </div>\n",
       "    <table border=\"1\" class=\"dataframe\">\n",
       "  <thead>\n",
       " <tr style=\"text-align: left;\">\n",
       "      <th>Epoch</th>\n",
       "      <th>Training Loss</th>\n",
       "      <th>Validation Loss</th>\n",
       "      <th>Accuracy</th>\n",
       "    </tr>\n",
       "  </thead>\n",
       "  <tbody>\n",
       "    <tr>\n",
       "      <td>1</td>\n",
       "      <td>No log</td>\n",
       "      <td>0.508896</td>\n",
       "      <td>0.873646</td>\n",
       "    </tr>\n",
       "  </tbody>\n",
       "</table><p>"
      ],
      "text/plain": [
       "<IPython.core.display.HTML object>"
      ]
     },
     "metadata": {},
     "output_type": "display_data"
    },
    {
     "name": "stderr",
     "output_type": "stream",
     "text": [
      "The following columns in the evaluation set  don't have a corresponding argument in `DistilBertForSequenceClassification.forward` and have been ignored: data_type, text. If data_type, text are not expected by `DistilBertForSequenceClassification.forward`,  you can safely ignore this message.\n",
      "***** Running Evaluation *****\n",
      "  Num examples = 554\n",
      "  Batch size = 8\n",
      "\n",
      "\n",
      "Training completed. Do not forget to share your model on huggingface.co/models =)\n",
      "\n",
      "\n"
     ]
    },
    {
     "data": {
      "text/plain": [
       "TrainOutput(global_step=216, training_loss=0.30047307191071687, metrics={'train_runtime': 394.5825, 'train_samples_per_second': 4.374, 'train_steps_per_second': 0.547, 'total_flos': 228638730080256.0, 'train_loss': 0.30047307191071687, 'epoch': 1.0})"
      ]
     },
     "execution_count": 45,
     "metadata": {},
     "output_type": "execute_result"
    }
   ],
   "source": [
    "from transformers import TrainingArguments, Trainer\n",
    "training_args = TrainingArguments(output_dir=\"test_trainer\", evaluation_strategy=\"epoch\", num_train_epochs=1)\n",
    "trainer = Trainer(\n",
    "    model=model,\n",
    "    args=training_args,\n",
    "    train_dataset=tokenized_datasets[\"train\"],\n",
    "    eval_dataset=tokenized_datasets[\"test\"],\n",
    "    compute_metrics=compute_metrics,\n",
    ")\n",
    "trainer.train()"
   ]
  },
  {
   "cell_type": "code",
   "execution_count": 46,
   "id": "dacc9bf7",
   "metadata": {},
   "outputs": [
    {
     "name": "stderr",
     "output_type": "stream",
     "text": [
      "Configuration saved in CustomModels/dataUse/config.json\n",
      "Model weights saved in CustomModels/dataUse/pytorch_model.bin\n",
      "tokenizer config file saved in CustomModels/dataUse/tokenizer_config.json\n",
      "Special tokens file saved in CustomModels/dataUse/special_tokens_map.json\n"
     ]
    },
    {
     "data": {
      "text/plain": [
       "('CustomModels/dataUse/tokenizer_config.json',\n",
       " 'CustomModels/dataUse/special_tokens_map.json',\n",
       " 'CustomModels/dataUse/vocab.txt',\n",
       " 'CustomModels/dataUse/added_tokens.json',\n",
       " 'CustomModels/dataUse/tokenizer.json')"
      ]
     },
     "execution_count": 46,
     "metadata": {},
     "output_type": "execute_result"
    }
   ],
   "source": [
    "model.save_pretrained(\"CustomModels/dataUse\")\n",
    "tokenizer.save_pretrained(\"CustomModels/dataUse\")"
   ]
  },
  {
   "cell_type": "markdown",
   "id": "dd0e03b1",
   "metadata": {},
   "source": []
  },
  {
   "cell_type": "code",
   "execution_count": 47,
   "id": "46199c9e",
   "metadata": {},
   "outputs": [
    {
     "name": "stderr",
     "output_type": "stream",
     "text": [
      "loading configuration file CustomModels/dataUse/config.json\n",
      "Model config DistilBertConfig {\n",
      "  \"_name_or_path\": \"CustomModels/dataUse\",\n",
      "  \"activation\": \"gelu\",\n",
      "  \"architectures\": [\n",
      "    \"DistilBertForSequenceClassification\"\n",
      "  ],\n",
      "  \"attention_dropout\": 0.1,\n",
      "  \"dim\": 768,\n",
      "  \"dropout\": 0.1,\n",
      "  \"hidden_dim\": 3072,\n",
      "  \"initializer_range\": 0.02,\n",
      "  \"max_position_embeddings\": 512,\n",
      "  \"model_type\": \"distilbert\",\n",
      "  \"n_heads\": 12,\n",
      "  \"n_layers\": 6,\n",
      "  \"output_past\": true,\n",
      "  \"pad_token_id\": 0,\n",
      "  \"problem_type\": \"single_label_classification\",\n",
      "  \"qa_dropout\": 0.1,\n",
      "  \"seq_classif_dropout\": 0.2,\n",
      "  \"sinusoidal_pos_embds\": false,\n",
      "  \"tie_weights_\": true,\n",
      "  \"torch_dtype\": \"float32\",\n",
      "  \"transformers_version\": \"4.17.0\",\n",
      "  \"vocab_size\": 28996\n",
      "}\n",
      "\n",
      "loading weights file CustomModels/dataUse/pytorch_model.bin\n",
      "All model checkpoint weights were used when initializing DistilBertForSequenceClassification.\n",
      "\n",
      "All the weights of DistilBertForSequenceClassification were initialized from the model checkpoint at CustomModels/dataUse.\n",
      "If your task is similar to the task the model of the checkpoint was trained on, you can already use DistilBertForSequenceClassification for predictions without further training.\n",
      "Didn't find file CustomModels/dataUse/added_tokens.json. We won't load it.\n",
      "loading file CustomModels/dataUse/vocab.txt\n",
      "loading file CustomModels/dataUse/tokenizer.json\n",
      "loading file None\n",
      "loading file CustomModels/dataUse/special_tokens_map.json\n",
      "loading file CustomModels/dataUse/tokenizer_config.json\n"
     ]
    }
   ],
   "source": [
    "from transformers import AutoModelForSequenceClassification\n",
    "load_model = AutoModelForSequenceClassification.from_pretrained(\"CustomModels/dataUse\")\n",
    "load_tokenizer = AutoTokenizer.from_pretrained(\"CustomModels/dataUse\")"
   ]
  },
  {
   "cell_type": "code",
   "execution_count": 48,
   "id": "3d10b5fb",
   "metadata": {},
   "outputs": [],
   "source": [
    "from transformers import pipeline\n",
    "my_pipeline = pipeline(\"text-classification\", model=load_model, tokenizer=load_tokenizer)"
   ]
  },
  {
   "cell_type": "code",
   "execution_count": 49,
   "id": "f75fcd74",
   "metadata": {},
   "outputs": [
    {
     "name": "stderr",
     "output_type": "stream",
     "text": [
      "/home/ec2-user/anaconda3/envs/amazonei_pytorch_latest_p37/lib/python3.7/site-packages/IPython/core/interactiveshell.py:3524: DtypeWarning: Columns (10) have mixed types.Specify dtype option on import or set low_memory=False.\n",
      "  exec(code_obj, self.user_global_ns, self.user_ns)\n"
     ]
    }
   ],
   "source": [
    "df_t = pd.read_csv('country_classifications.csv',index_col=1)"
   ]
  },
  {
   "cell_type": "code",
   "execution_count": 50,
   "id": "9580f45b",
   "metadata": {},
   "outputs": [],
   "source": [
    "df_t = df_t.drop(['Unnamed: 0'], axis=1)  "
   ]
  },
  {
   "cell_type": "code",
   "execution_count": 51,
   "id": "122372f9",
   "metadata": {},
   "outputs": [],
   "source": [
    "df_1 = df_t.iloc[:140000]"
   ]
  },
  {
   "cell_type": "code",
   "execution_count": null,
   "id": "9c975b3f",
   "metadata": {},
   "outputs": [],
   "source": [
    "df_1.head(5)"
   ]
  },
  {
   "cell_type": "code",
   "execution_count": 53,
   "id": "b0a3125e",
   "metadata": {},
   "outputs": [],
   "source": [
    "### test #######"
   ]
  },
  {
   "cell_type": "code",
   "execution_count": 54,
   "id": "7a290c51",
   "metadata": {},
   "outputs": [
    {
     "name": "stderr",
     "output_type": "stream",
     "text": [
      "/home/ec2-user/anaconda3/envs/amazonei_pytorch_latest_p37/lib/python3.7/site-packages/ipykernel/__main__.py:1: SettingWithCopyWarning: \n",
      "A value is trying to be set on a copy of a slice from a DataFrame.\n",
      "Try using .loc[row_indexer,col_indexer] = value instead\n",
      "\n",
      "See the caveats in the documentation: https://pandas.pydata.org/pandas-docs/stable/user_guide/indexing.html#returning-a-view-versus-a-copy\n",
      "  if __name__ == '__main__':\n"
     ]
    }
   ],
   "source": [
    "df_1['tokens'] = df_1.abstract.apply(tokenizer)"
   ]
  },
  {
   "cell_type": "code",
   "execution_count": 55,
   "id": "8adb7abc",
   "metadata": {},
   "outputs": [],
   "source": [
    "len_token=[]\n",
    "for i in range(len(df_1)):\n",
    "    len_token.append(len(df_1.iloc[i]['tokens']['input_ids']))"
   ]
  },
  {
   "cell_type": "code",
   "execution_count": 56,
   "id": "7fa9068e",
   "metadata": {},
   "outputs": [
    {
     "name": "stderr",
     "output_type": "stream",
     "text": [
      "/home/ec2-user/anaconda3/envs/amazonei_pytorch_latest_p37/lib/python3.7/site-packages/ipykernel/__main__.py:1: SettingWithCopyWarning: \n",
      "A value is trying to be set on a copy of a slice from a DataFrame.\n",
      "Try using .loc[row_indexer,col_indexer] = value instead\n",
      "\n",
      "See the caveats in the documentation: https://pandas.pydata.org/pandas-docs/stable/user_guide/indexing.html#returning-a-view-versus-a-copy\n",
      "  if __name__ == '__main__':\n"
     ]
    }
   ],
   "source": [
    "df_1['len_token'] = pd.DataFrame(len_token, columns = ['len_token'])"
   ]
  },
  {
   "cell_type": "code",
   "execution_count": 57,
   "id": "5d6f311a",
   "metadata": {},
   "outputs": [],
   "source": [
    "df_11=df_1[df_1['len_token'] > 512]"
   ]
  },
  {
   "cell_type": "code",
   "execution_count": 58,
   "id": "12737888",
   "metadata": {},
   "outputs": [
    {
     "data": {
      "text/plain": [
       "11429"
      ]
     },
     "execution_count": 58,
     "metadata": {},
     "output_type": "execute_result"
    }
   ],
   "source": [
    "len(df_11)"
   ]
  },
  {
   "cell_type": "code",
   "execution_count": 59,
   "id": "6e726cf4",
   "metadata": {},
   "outputs": [],
   "source": [
    "df_12 = df_1[df_1['len_token']<512]"
   ]
  },
  {
   "cell_type": "code",
   "execution_count": null,
   "id": "ab8755bc",
   "metadata": {},
   "outputs": [
    {
     "name": "stdout",
     "output_type": "stream",
     "text": [
      "2:42:55.899932\n"
     ]
    },
    {
     "name": "stderr",
     "output_type": "stream",
     "text": [
      "/home/ec2-user/anaconda3/envs/amazonei_pytorch_latest_p37/lib/python3.7/site-packages/ipykernel/__main__.py:3: SettingWithCopyWarning: \n",
      "A value is trying to be set on a copy of a slice from a DataFrame.\n",
      "Try using .loc[row_indexer,col_indexer] = value instead\n",
      "\n",
      "See the caveats in the documentation: https://pandas.pydata.org/pandas-docs/stable/user_guide/indexing.html#returning-a-view-versus-a-copy\n",
      "  app.launch_new_instance()\n"
     ]
    },
    {
     "ename": "AttributeError",
     "evalue": "'NoneType' object has no attribute 'seconds'",
     "output_type": "error",
     "traceback": [
      "\u001b[0;31m---------------------------------------------------------------------------\u001b[0m",
      "\u001b[0;31mAttributeError\u001b[0m                            Traceback (most recent call last)",
      "\u001b[0;32m/tmp/ipykernel_77609/1405801813.py\u001b[0m in \u001b[0;36m<module>\u001b[0;34m\u001b[0m\n\u001b[1;32m      3\u001b[0m \u001b[0mdf_12\u001b[0m\u001b[0;34m[\u001b[0m\u001b[0;34m'label_p'\u001b[0m\u001b[0;34m]\u001b[0m\u001b[0;34m=\u001b[0m \u001b[0mdf_12\u001b[0m\u001b[0;34m.\u001b[0m\u001b[0mabstract\u001b[0m\u001b[0;34m.\u001b[0m\u001b[0mapply\u001b[0m\u001b[0;34m(\u001b[0m\u001b[0mmy_pipeline\u001b[0m\u001b[0;34m)\u001b[0m\u001b[0;34m\u001b[0m\u001b[0;34m\u001b[0m\u001b[0m\n\u001b[1;32m      4\u001b[0m \u001b[0mendtime\u001b[0m \u001b[0;34m=\u001b[0m \u001b[0mdatetime\u001b[0m\u001b[0;34m.\u001b[0m\u001b[0mdatetime\u001b[0m\u001b[0;34m.\u001b[0m\u001b[0mnow\u001b[0m\u001b[0;34m(\u001b[0m\u001b[0;34m)\u001b[0m\u001b[0;34m\u001b[0m\u001b[0;34m\u001b[0m\u001b[0m\n\u001b[0;32m----> 5\u001b[0;31m \u001b[0mprint\u001b[0m\u001b[0;34m(\u001b[0m\u001b[0mendtime\u001b[0m \u001b[0;34m-\u001b[0m \u001b[0mstarttime\u001b[0m\u001b[0;34m)\u001b[0m\u001b[0;34m.\u001b[0m\u001b[0mseconds\u001b[0m\u001b[0;34m\u001b[0m\u001b[0;34m\u001b[0m\u001b[0m\n\u001b[0m\u001b[1;32m      6\u001b[0m \u001b[0;34m\u001b[0m\u001b[0m\n",
      "\u001b[0;31mAttributeError\u001b[0m: 'NoneType' object has no attribute 'seconds'"
     ]
    }
   ],
   "source": [
    "import datetime\n",
    "starttime = datetime.datetime.now()\n",
    "df_12['label_p']= df_12.abstract.apply(my_pipeline)\n",
    "endtime = datetime.datetime.now()\n",
    "print(endtime - starttime).seconds\n",
    "\n"
   ]
  },
  {
   "cell_type": "code",
   "execution_count": 66,
   "id": "fb7bc265",
   "metadata": {},
   "outputs": [
    {
     "data": {
      "text/plain": [
       "False    128466\n",
       "Name: label_p, dtype: int64"
      ]
     },
     "execution_count": 66,
     "metadata": {},
     "output_type": "execute_result"
    }
   ],
   "source": [
    "df_12['label_p'].isna().value_counts()"
   ]
  },
  {
   "cell_type": "code",
   "execution_count": 74,
   "id": "a2bf5a58",
   "metadata": {},
   "outputs": [
    {
     "data": {
      "text/html": [
       "<div>\n",
       "<style scoped>\n",
       "    .dataframe tbody tr th:only-of-type {\n",
       "        vertical-align: middle;\n",
       "    }\n",
       "\n",
       "    .dataframe tbody tr th {\n",
       "        vertical-align: top;\n",
       "    }\n",
       "\n",
       "    .dataframe thead th {\n",
       "        text-align: right;\n",
       "    }\n",
       "</style>\n",
       "<table border=\"1\" class=\"dataframe\">\n",
       "  <thead>\n",
       "    <tr style=\"text-align: right;\">\n",
       "      <th></th>\n",
       "      <th>paper_id</th>\n",
       "      <th>title</th>\n",
       "      <th>abstract</th>\n",
       "      <th>year</th>\n",
       "      <th>doi</th>\n",
       "      <th>venue</th>\n",
       "      <th>journal</th>\n",
       "      <th>mag_field_of_study</th>\n",
       "      <th>places</th>\n",
       "      <th>countries</th>\n",
       "      <th>...</th>\n",
       "      <th>IOT</th>\n",
       "      <th>MSR</th>\n",
       "      <th>PYF</th>\n",
       "      <th>SPM</th>\n",
       "      <th>SXM</th>\n",
       "      <th>UMI</th>\n",
       "      <th>WSM</th>\n",
       "      <th>tokens</th>\n",
       "      <th>len_token</th>\n",
       "      <th>label_p</th>\n",
       "    </tr>\n",
       "    <tr>\n",
       "      <th>index</th>\n",
       "      <th></th>\n",
       "      <th></th>\n",
       "      <th></th>\n",
       "      <th></th>\n",
       "      <th></th>\n",
       "      <th></th>\n",
       "      <th></th>\n",
       "      <th></th>\n",
       "      <th></th>\n",
       "      <th></th>\n",
       "      <th></th>\n",
       "      <th></th>\n",
       "      <th></th>\n",
       "      <th></th>\n",
       "      <th></th>\n",
       "      <th></th>\n",
       "      <th></th>\n",
       "      <th></th>\n",
       "      <th></th>\n",
       "      <th></th>\n",
       "      <th></th>\n",
       "    </tr>\n",
       "  </thead>\n",
       "  <tbody>\n",
       "    <tr>\n",
       "      <th>0</th>\n",
       "      <td>159350887</td>\n",
       "      <td>No. 8 Cultural and other relations - Mapping C...</td>\n",
       "      <td>Cultural relations between Central Asian and t...</td>\n",
       "      <td>2018</td>\n",
       "      <td>10.17185/duepublico/47242</td>\n",
       "      <td>NaN</td>\n",
       "      <td>NaN</td>\n",
       "      <td>NaN</td>\n",
       "      <td>[India, Japan, South Korea, Iran , Turkey, Sou...</td>\n",
       "      <td>['IND', 'IRN', 'JPN', 'KOR', 'TUR']</td>\n",
       "      <td>...</td>\n",
       "      <td>0</td>\n",
       "      <td>0</td>\n",
       "      <td>0</td>\n",
       "      <td>0</td>\n",
       "      <td>0</td>\n",
       "      <td>0</td>\n",
       "      <td>0</td>\n",
       "      <td>[input_ids, attention_mask]</td>\n",
       "      <td>234</td>\n",
       "      <td>[{'label': 'LABEL_0', 'score': 0.9831673502922...</td>\n",
       "    </tr>\n",
       "    <tr>\n",
       "      <th>1</th>\n",
       "      <td>159352431</td>\n",
       "      <td>The Ship Owner's Lien on Sub-freights and Pers...</td>\n",
       "      <td>In the event of default by a head charterer, a...</td>\n",
       "      <td>2014</td>\n",
       "      <td>NaN</td>\n",
       "      <td>NaN</td>\n",
       "      <td>Australian and New Zealand Maritime Law Journal</td>\n",
       "      <td>NaN</td>\n",
       "      <td>[New Zealand, Australia, Canada ]</td>\n",
       "      <td>['AUS', 'CAN', 'NZL']</td>\n",
       "      <td>...</td>\n",
       "      <td>0</td>\n",
       "      <td>0</td>\n",
       "      <td>0</td>\n",
       "      <td>0</td>\n",
       "      <td>0</td>\n",
       "      <td>0</td>\n",
       "      <td>0</td>\n",
       "      <td>[input_ids, attention_mask]</td>\n",
       "      <td>164</td>\n",
       "      <td>[{'label': 'LABEL_0', 'score': 0.9654276967048...</td>\n",
       "    </tr>\n",
       "    <tr>\n",
       "      <th>2</th>\n",
       "      <td>159355456</td>\n",
       "      <td>An update on model Ayush wellness clinic at pr...</td>\n",
       "      <td>The Government of India has presented an expan...</td>\n",
       "      <td>2018</td>\n",
       "      <td>10.15406/ijcam.2018.11.00389</td>\n",
       "      <td>NaN</td>\n",
       "      <td>International Journal of Complementary and Alt...</td>\n",
       "      <td>NaN</td>\n",
       "      <td>[India , India, Secretariat , Unani, Sidha, In...</td>\n",
       "      <td>['IND']</td>\n",
       "      <td>...</td>\n",
       "      <td>0</td>\n",
       "      <td>0</td>\n",
       "      <td>0</td>\n",
       "      <td>0</td>\n",
       "      <td>0</td>\n",
       "      <td>0</td>\n",
       "      <td>0</td>\n",
       "      <td>[input_ids, attention_mask]</td>\n",
       "      <td>385</td>\n",
       "      <td>[{'label': 'LABEL_1', 'score': 0.5357764959335...</td>\n",
       "    </tr>\n",
       "    <tr>\n",
       "      <th>3</th>\n",
       "      <td>18980463</td>\n",
       "      <td>Adult and larval photoreceptors use different ...</td>\n",
       "      <td>Although development of the adult Drosophila c...</td>\n",
       "      <td>2007</td>\n",
       "      <td>10.1101/gad.1565407</td>\n",
       "      <td>Genes &amp; development</td>\n",
       "      <td>Genes &amp; development</td>\n",
       "      <td>NaN</td>\n",
       "      <td>[Spalt]</td>\n",
       "      <td>['nf']</td>\n",
       "      <td>...</td>\n",
       "      <td>0</td>\n",
       "      <td>0</td>\n",
       "      <td>0</td>\n",
       "      <td>0</td>\n",
       "      <td>0</td>\n",
       "      <td>0</td>\n",
       "      <td>0</td>\n",
       "      <td>[input_ids, attention_mask]</td>\n",
       "      <td>304</td>\n",
       "      <td>[{'label': 'LABEL_0', 'score': 0.9475196003913...</td>\n",
       "    </tr>\n",
       "    <tr>\n",
       "      <th>4</th>\n",
       "      <td>18981358</td>\n",
       "      <td>Rubber hand illusion induced by touching the f...</td>\n",
       "      <td>Background: Studies in animals and humans indi...</td>\n",
       "      <td>2014</td>\n",
       "      <td>10.3389/fnhum.2014.00404</td>\n",
       "      <td>Front. Hum. Neurosci.</td>\n",
       "      <td>NaN</td>\n",
       "      <td>NaN</td>\n",
       "      <td>[]</td>\n",
       "      <td>['nf']</td>\n",
       "      <td>...</td>\n",
       "      <td>0</td>\n",
       "      <td>0</td>\n",
       "      <td>0</td>\n",
       "      <td>0</td>\n",
       "      <td>0</td>\n",
       "      <td>0</td>\n",
       "      <td>0</td>\n",
       "      <td>[input_ids, attention_mask]</td>\n",
       "      <td>383</td>\n",
       "      <td>[{'label': 'LABEL_1', 'score': 0.9949036836624...</td>\n",
       "    </tr>\n",
       "  </tbody>\n",
       "</table>\n",
       "<p>5 rows × 264 columns</p>\n",
       "</div>"
      ],
      "text/plain": [
       "        paper_id                                              title  \\\n",
       "index                                                                 \n",
       "0      159350887  No. 8 Cultural and other relations - Mapping C...   \n",
       "1      159352431  The Ship Owner's Lien on Sub-freights and Pers...   \n",
       "2      159355456  An update on model Ayush wellness clinic at pr...   \n",
       "3       18980463  Adult and larval photoreceptors use different ...   \n",
       "4       18981358  Rubber hand illusion induced by touching the f...   \n",
       "\n",
       "                                                abstract  year  \\\n",
       "index                                                            \n",
       "0      Cultural relations between Central Asian and t...  2018   \n",
       "1      In the event of default by a head charterer, a...  2014   \n",
       "2      The Government of India has presented an expan...  2018   \n",
       "3      Although development of the adult Drosophila c...  2007   \n",
       "4      Background: Studies in animals and humans indi...  2014   \n",
       "\n",
       "                                doi                  venue  \\\n",
       "index                                                        \n",
       "0         10.17185/duepublico/47242                    NaN   \n",
       "1                               NaN                    NaN   \n",
       "2      10.15406/ijcam.2018.11.00389                    NaN   \n",
       "3               10.1101/gad.1565407    Genes & development   \n",
       "4          10.3389/fnhum.2014.00404  Front. Hum. Neurosci.   \n",
       "\n",
       "                                                 journal  mag_field_of_study  \\\n",
       "index                                                                          \n",
       "0                                                    NaN                 NaN   \n",
       "1        Australian and New Zealand Maritime Law Journal                 NaN   \n",
       "2      International Journal of Complementary and Alt...                 NaN   \n",
       "3                                    Genes & development                 NaN   \n",
       "4                                                    NaN                 NaN   \n",
       "\n",
       "                                                  places  \\\n",
       "index                                                      \n",
       "0      [India, Japan, South Korea, Iran , Turkey, Sou...   \n",
       "1                      [New Zealand, Australia, Canada ]   \n",
       "2      [India , India, Secretariat , Unani, Sidha, In...   \n",
       "3                                                [Spalt]   \n",
       "4                                                     []   \n",
       "\n",
       "                                 countries  ...  IOT  MSR  PYF  SPM  SXM  UMI  \\\n",
       "index                                       ...                                 \n",
       "0      ['IND', 'IRN', 'JPN', 'KOR', 'TUR']  ...    0    0    0    0    0    0   \n",
       "1                    ['AUS', 'CAN', 'NZL']  ...    0    0    0    0    0    0   \n",
       "2                                  ['IND']  ...    0    0    0    0    0    0   \n",
       "3                                   ['nf']  ...    0    0    0    0    0    0   \n",
       "4                                   ['nf']  ...    0    0    0    0    0    0   \n",
       "\n",
       "       WSM                       tokens  len_token  \\\n",
       "index                                                \n",
       "0        0  [input_ids, attention_mask]        234   \n",
       "1        0  [input_ids, attention_mask]        164   \n",
       "2        0  [input_ids, attention_mask]        385   \n",
       "3        0  [input_ids, attention_mask]        304   \n",
       "4        0  [input_ids, attention_mask]        383   \n",
       "\n",
       "                                                 label_p  \n",
       "index                                                     \n",
       "0      [{'label': 'LABEL_0', 'score': 0.9831673502922...  \n",
       "1      [{'label': 'LABEL_0', 'score': 0.9654276967048...  \n",
       "2      [{'label': 'LABEL_1', 'score': 0.5357764959335...  \n",
       "3      [{'label': 'LABEL_0', 'score': 0.9475196003913...  \n",
       "4      [{'label': 'LABEL_1', 'score': 0.9949036836624...  \n",
       "\n",
       "[5 rows x 264 columns]"
      ]
     },
     "execution_count": 74,
     "metadata": {},
     "output_type": "execute_result"
    }
   ],
   "source": [
    "df_12.head(5)"
   ]
  },
  {
   "cell_type": "code",
   "execution_count": 79,
   "id": "705ebffa",
   "metadata": {},
   "outputs": [],
   "source": [
    "data_use = []\n",
    "for index, row in df_12.iterrows():\n",
    "    if row[263][0]['label'] == 'LABEL_1':\n",
    "        k = 'Yes'\n",
    "        data_use.append(k)\n",
    "    else:\n",
    "        k = 'No'\n",
    "        data_use.append(k)"
   ]
  },
  {
   "cell_type": "code",
   "execution_count": 80,
   "id": "ce0f700d",
   "metadata": {},
   "outputs": [],
   "source": [
    "df_12.insert(263, 'data_use', data_use, allow_duplicates=False)"
   ]
  },
  {
   "cell_type": "code",
   "execution_count": 81,
   "id": "4483d1c8",
   "metadata": {},
   "outputs": [
    {
     "data": {
      "text/html": [
       "<div>\n",
       "<style scoped>\n",
       "    .dataframe tbody tr th:only-of-type {\n",
       "        vertical-align: middle;\n",
       "    }\n",
       "\n",
       "    .dataframe tbody tr th {\n",
       "        vertical-align: top;\n",
       "    }\n",
       "\n",
       "    .dataframe thead th {\n",
       "        text-align: right;\n",
       "    }\n",
       "</style>\n",
       "<table border=\"1\" class=\"dataframe\">\n",
       "  <thead>\n",
       "    <tr style=\"text-align: right;\">\n",
       "      <th></th>\n",
       "      <th>paper_id</th>\n",
       "      <th>title</th>\n",
       "      <th>abstract</th>\n",
       "      <th>year</th>\n",
       "      <th>doi</th>\n",
       "      <th>venue</th>\n",
       "      <th>journal</th>\n",
       "      <th>mag_field_of_study</th>\n",
       "      <th>places</th>\n",
       "      <th>countries</th>\n",
       "      <th>...</th>\n",
       "      <th>MSR</th>\n",
       "      <th>PYF</th>\n",
       "      <th>SPM</th>\n",
       "      <th>SXM</th>\n",
       "      <th>UMI</th>\n",
       "      <th>WSM</th>\n",
       "      <th>tokens</th>\n",
       "      <th>len_token</th>\n",
       "      <th>data_use</th>\n",
       "      <th>label_p</th>\n",
       "    </tr>\n",
       "    <tr>\n",
       "      <th>index</th>\n",
       "      <th></th>\n",
       "      <th></th>\n",
       "      <th></th>\n",
       "      <th></th>\n",
       "      <th></th>\n",
       "      <th></th>\n",
       "      <th></th>\n",
       "      <th></th>\n",
       "      <th></th>\n",
       "      <th></th>\n",
       "      <th></th>\n",
       "      <th></th>\n",
       "      <th></th>\n",
       "      <th></th>\n",
       "      <th></th>\n",
       "      <th></th>\n",
       "      <th></th>\n",
       "      <th></th>\n",
       "      <th></th>\n",
       "      <th></th>\n",
       "      <th></th>\n",
       "    </tr>\n",
       "  </thead>\n",
       "  <tbody>\n",
       "    <tr>\n",
       "      <th>0</th>\n",
       "      <td>159350887</td>\n",
       "      <td>No. 8 Cultural and other relations - Mapping C...</td>\n",
       "      <td>Cultural relations between Central Asian and t...</td>\n",
       "      <td>2018</td>\n",
       "      <td>10.17185/duepublico/47242</td>\n",
       "      <td>NaN</td>\n",
       "      <td>NaN</td>\n",
       "      <td>NaN</td>\n",
       "      <td>[India, Japan, South Korea, Iran , Turkey, Sou...</td>\n",
       "      <td>['IND', 'IRN', 'JPN', 'KOR', 'TUR']</td>\n",
       "      <td>...</td>\n",
       "      <td>0</td>\n",
       "      <td>0</td>\n",
       "      <td>0</td>\n",
       "      <td>0</td>\n",
       "      <td>0</td>\n",
       "      <td>0</td>\n",
       "      <td>[input_ids, attention_mask]</td>\n",
       "      <td>234</td>\n",
       "      <td>No</td>\n",
       "      <td>[{'label': 'LABEL_0', 'score': 0.9831673502922...</td>\n",
       "    </tr>\n",
       "    <tr>\n",
       "      <th>1</th>\n",
       "      <td>159352431</td>\n",
       "      <td>The Ship Owner's Lien on Sub-freights and Pers...</td>\n",
       "      <td>In the event of default by a head charterer, a...</td>\n",
       "      <td>2014</td>\n",
       "      <td>NaN</td>\n",
       "      <td>NaN</td>\n",
       "      <td>Australian and New Zealand Maritime Law Journal</td>\n",
       "      <td>NaN</td>\n",
       "      <td>[New Zealand, Australia, Canada ]</td>\n",
       "      <td>['AUS', 'CAN', 'NZL']</td>\n",
       "      <td>...</td>\n",
       "      <td>0</td>\n",
       "      <td>0</td>\n",
       "      <td>0</td>\n",
       "      <td>0</td>\n",
       "      <td>0</td>\n",
       "      <td>0</td>\n",
       "      <td>[input_ids, attention_mask]</td>\n",
       "      <td>164</td>\n",
       "      <td>No</td>\n",
       "      <td>[{'label': 'LABEL_0', 'score': 0.9654276967048...</td>\n",
       "    </tr>\n",
       "    <tr>\n",
       "      <th>2</th>\n",
       "      <td>159355456</td>\n",
       "      <td>An update on model Ayush wellness clinic at pr...</td>\n",
       "      <td>The Government of India has presented an expan...</td>\n",
       "      <td>2018</td>\n",
       "      <td>10.15406/ijcam.2018.11.00389</td>\n",
       "      <td>NaN</td>\n",
       "      <td>International Journal of Complementary and Alt...</td>\n",
       "      <td>NaN</td>\n",
       "      <td>[India , India, Secretariat , Unani, Sidha, In...</td>\n",
       "      <td>['IND']</td>\n",
       "      <td>...</td>\n",
       "      <td>0</td>\n",
       "      <td>0</td>\n",
       "      <td>0</td>\n",
       "      <td>0</td>\n",
       "      <td>0</td>\n",
       "      <td>0</td>\n",
       "      <td>[input_ids, attention_mask]</td>\n",
       "      <td>385</td>\n",
       "      <td>Yes</td>\n",
       "      <td>[{'label': 'LABEL_1', 'score': 0.5357764959335...</td>\n",
       "    </tr>\n",
       "    <tr>\n",
       "      <th>3</th>\n",
       "      <td>18980463</td>\n",
       "      <td>Adult and larval photoreceptors use different ...</td>\n",
       "      <td>Although development of the adult Drosophila c...</td>\n",
       "      <td>2007</td>\n",
       "      <td>10.1101/gad.1565407</td>\n",
       "      <td>Genes &amp; development</td>\n",
       "      <td>Genes &amp; development</td>\n",
       "      <td>NaN</td>\n",
       "      <td>[Spalt]</td>\n",
       "      <td>['nf']</td>\n",
       "      <td>...</td>\n",
       "      <td>0</td>\n",
       "      <td>0</td>\n",
       "      <td>0</td>\n",
       "      <td>0</td>\n",
       "      <td>0</td>\n",
       "      <td>0</td>\n",
       "      <td>[input_ids, attention_mask]</td>\n",
       "      <td>304</td>\n",
       "      <td>No</td>\n",
       "      <td>[{'label': 'LABEL_0', 'score': 0.9475196003913...</td>\n",
       "    </tr>\n",
       "    <tr>\n",
       "      <th>4</th>\n",
       "      <td>18981358</td>\n",
       "      <td>Rubber hand illusion induced by touching the f...</td>\n",
       "      <td>Background: Studies in animals and humans indi...</td>\n",
       "      <td>2014</td>\n",
       "      <td>10.3389/fnhum.2014.00404</td>\n",
       "      <td>Front. Hum. Neurosci.</td>\n",
       "      <td>NaN</td>\n",
       "      <td>NaN</td>\n",
       "      <td>[]</td>\n",
       "      <td>['nf']</td>\n",
       "      <td>...</td>\n",
       "      <td>0</td>\n",
       "      <td>0</td>\n",
       "      <td>0</td>\n",
       "      <td>0</td>\n",
       "      <td>0</td>\n",
       "      <td>0</td>\n",
       "      <td>[input_ids, attention_mask]</td>\n",
       "      <td>383</td>\n",
       "      <td>Yes</td>\n",
       "      <td>[{'label': 'LABEL_1', 'score': 0.9949036836624...</td>\n",
       "    </tr>\n",
       "  </tbody>\n",
       "</table>\n",
       "<p>5 rows × 265 columns</p>\n",
       "</div>"
      ],
      "text/plain": [
       "        paper_id                                              title  \\\n",
       "index                                                                 \n",
       "0      159350887  No. 8 Cultural and other relations - Mapping C...   \n",
       "1      159352431  The Ship Owner's Lien on Sub-freights and Pers...   \n",
       "2      159355456  An update on model Ayush wellness clinic at pr...   \n",
       "3       18980463  Adult and larval photoreceptors use different ...   \n",
       "4       18981358  Rubber hand illusion induced by touching the f...   \n",
       "\n",
       "                                                abstract  year  \\\n",
       "index                                                            \n",
       "0      Cultural relations between Central Asian and t...  2018   \n",
       "1      In the event of default by a head charterer, a...  2014   \n",
       "2      The Government of India has presented an expan...  2018   \n",
       "3      Although development of the adult Drosophila c...  2007   \n",
       "4      Background: Studies in animals and humans indi...  2014   \n",
       "\n",
       "                                doi                  venue  \\\n",
       "index                                                        \n",
       "0         10.17185/duepublico/47242                    NaN   \n",
       "1                               NaN                    NaN   \n",
       "2      10.15406/ijcam.2018.11.00389                    NaN   \n",
       "3               10.1101/gad.1565407    Genes & development   \n",
       "4          10.3389/fnhum.2014.00404  Front. Hum. Neurosci.   \n",
       "\n",
       "                                                 journal  mag_field_of_study  \\\n",
       "index                                                                          \n",
       "0                                                    NaN                 NaN   \n",
       "1        Australian and New Zealand Maritime Law Journal                 NaN   \n",
       "2      International Journal of Complementary and Alt...                 NaN   \n",
       "3                                    Genes & development                 NaN   \n",
       "4                                                    NaN                 NaN   \n",
       "\n",
       "                                                  places  \\\n",
       "index                                                      \n",
       "0      [India, Japan, South Korea, Iran , Turkey, Sou...   \n",
       "1                      [New Zealand, Australia, Canada ]   \n",
       "2      [India , India, Secretariat , Unani, Sidha, In...   \n",
       "3                                                [Spalt]   \n",
       "4                                                     []   \n",
       "\n",
       "                                 countries  ...  MSR  PYF  SPM  SXM  UMI  WSM  \\\n",
       "index                                       ...                                 \n",
       "0      ['IND', 'IRN', 'JPN', 'KOR', 'TUR']  ...    0    0    0    0    0    0   \n",
       "1                    ['AUS', 'CAN', 'NZL']  ...    0    0    0    0    0    0   \n",
       "2                                  ['IND']  ...    0    0    0    0    0    0   \n",
       "3                                   ['nf']  ...    0    0    0    0    0    0   \n",
       "4                                   ['nf']  ...    0    0    0    0    0    0   \n",
       "\n",
       "                            tokens  len_token  data_use  \\\n",
       "index                                                     \n",
       "0      [input_ids, attention_mask]        234        No   \n",
       "1      [input_ids, attention_mask]        164        No   \n",
       "2      [input_ids, attention_mask]        385       Yes   \n",
       "3      [input_ids, attention_mask]        304        No   \n",
       "4      [input_ids, attention_mask]        383       Yes   \n",
       "\n",
       "                                                 label_p  \n",
       "index                                                     \n",
       "0      [{'label': 'LABEL_0', 'score': 0.9831673502922...  \n",
       "1      [{'label': 'LABEL_0', 'score': 0.9654276967048...  \n",
       "2      [{'label': 'LABEL_1', 'score': 0.5357764959335...  \n",
       "3      [{'label': 'LABEL_0', 'score': 0.9475196003913...  \n",
       "4      [{'label': 'LABEL_1', 'score': 0.9949036836624...  \n",
       "\n",
       "[5 rows x 265 columns]"
      ]
     },
     "execution_count": 81,
     "metadata": {},
     "output_type": "execute_result"
    }
   ],
   "source": [
    "df_12.head(5)"
   ]
  },
  {
   "cell_type": "code",
   "execution_count": 82,
   "id": "c058688b",
   "metadata": {},
   "outputs": [],
   "source": [
    "df_12.to_csv('result_12.csv')"
   ]
  },
  {
   "cell_type": "code",
   "execution_count": 83,
   "id": "3a68ad49",
   "metadata": {},
   "outputs": [
    {
     "data": {
      "text/plain": [
       "Yes    99944\n",
       "No     28522\n",
       "Name: data_use, dtype: int64"
      ]
     },
     "execution_count": 83,
     "metadata": {},
     "output_type": "execute_result"
    }
   ],
   "source": [
    "df_12['data_use'].value_counts()"
   ]
  },
  {
   "cell_type": "code",
   "execution_count": 84,
   "id": "f8b7bee6",
   "metadata": {},
   "outputs": [],
   "source": [
    "df_2 = df_t.iloc[140001:280000]"
   ]
  },
  {
   "cell_type": "code",
   "execution_count": 85,
   "id": "b5bccb0b",
   "metadata": {},
   "outputs": [
    {
     "name": "stderr",
     "output_type": "stream",
     "text": [
      "/home/ec2-user/anaconda3/envs/amazonei_pytorch_latest_p37/lib/python3.7/site-packages/ipykernel/__main__.py:1: SettingWithCopyWarning: \n",
      "A value is trying to be set on a copy of a slice from a DataFrame.\n",
      "Try using .loc[row_indexer,col_indexer] = value instead\n",
      "\n",
      "See the caveats in the documentation: https://pandas.pydata.org/pandas-docs/stable/user_guide/indexing.html#returning-a-view-versus-a-copy\n",
      "  if __name__ == '__main__':\n"
     ]
    }
   ],
   "source": [
    "df_2['tokens'] = df_2.abstract.apply(tokenizer)"
   ]
  },
  {
   "cell_type": "code",
   "execution_count": 97,
   "id": "58d6ea14",
   "metadata": {},
   "outputs": [],
   "source": [
    "len_token=[]\n",
    "for i in range(len(df_2)):\n",
    "    len_token.append(len(df_2.iloc[i]['tokens']['input_ids']))"
   ]
  },
  {
   "cell_type": "code",
   "execution_count": 101,
   "id": "8257c158",
   "metadata": {},
   "outputs": [
    {
     "name": "stdout",
     "output_type": "stream",
     "text": [
      "139999\n"
     ]
    }
   ],
   "source": [
    "print(len(len_token))"
   ]
  },
  {
   "cell_type": "code",
   "execution_count": 104,
   "id": "8ba7d8d4",
   "metadata": {},
   "outputs": [
    {
     "name": "stderr",
     "output_type": "stream",
     "text": [
      "/home/ec2-user/anaconda3/envs/amazonei_pytorch_latest_p37/lib/python3.7/site-packages/pandas/core/indexing.py:1773: SettingWithCopyWarning: \n",
      "A value is trying to be set on a copy of a slice from a DataFrame.\n",
      "Try using .loc[row_indexer,col_indexer] = value instead\n",
      "\n",
      "See the caveats in the documentation: https://pandas.pydata.org/pandas-docs/stable/user_guide/indexing.html#returning-a-view-versus-a-copy\n",
      "  self._setitem_single_column(ilocs[0], value, pi)\n"
     ]
    }
   ],
   "source": [
    "#df_2['len_token'] = pd.DataFrame(len_token, columns = ['len_token'])\n",
    "\n",
    "df_2.loc[:,'len_token'] = len_token"
   ]
  },
  {
   "cell_type": "code",
   "execution_count": 105,
   "id": "c51acd5b",
   "metadata": {},
   "outputs": [
    {
     "data": {
      "text/html": [
       "<div>\n",
       "<style scoped>\n",
       "    .dataframe tbody tr th:only-of-type {\n",
       "        vertical-align: middle;\n",
       "    }\n",
       "\n",
       "    .dataframe tbody tr th {\n",
       "        vertical-align: top;\n",
       "    }\n",
       "\n",
       "    .dataframe thead th {\n",
       "        text-align: right;\n",
       "    }\n",
       "</style>\n",
       "<table border=\"1\" class=\"dataframe\">\n",
       "  <thead>\n",
       "    <tr style=\"text-align: right;\">\n",
       "      <th></th>\n",
       "      <th>paper_id</th>\n",
       "      <th>title</th>\n",
       "      <th>abstract</th>\n",
       "      <th>year</th>\n",
       "      <th>doi</th>\n",
       "      <th>venue</th>\n",
       "      <th>journal</th>\n",
       "      <th>mag_field_of_study</th>\n",
       "      <th>places</th>\n",
       "      <th>countries</th>\n",
       "      <th>...</th>\n",
       "      <th>HMD</th>\n",
       "      <th>IOT</th>\n",
       "      <th>MSR</th>\n",
       "      <th>PYF</th>\n",
       "      <th>SPM</th>\n",
       "      <th>SXM</th>\n",
       "      <th>UMI</th>\n",
       "      <th>WSM</th>\n",
       "      <th>tokens</th>\n",
       "      <th>len_token</th>\n",
       "    </tr>\n",
       "    <tr>\n",
       "      <th>index</th>\n",
       "      <th></th>\n",
       "      <th></th>\n",
       "      <th></th>\n",
       "      <th></th>\n",
       "      <th></th>\n",
       "      <th></th>\n",
       "      <th></th>\n",
       "      <th></th>\n",
       "      <th></th>\n",
       "      <th></th>\n",
       "      <th></th>\n",
       "      <th></th>\n",
       "      <th></th>\n",
       "      <th></th>\n",
       "      <th></th>\n",
       "      <th></th>\n",
       "      <th></th>\n",
       "      <th></th>\n",
       "      <th></th>\n",
       "      <th></th>\n",
       "      <th></th>\n",
       "    </tr>\n",
       "  </thead>\n",
       "  <tbody>\n",
       "    <tr>\n",
       "      <th>140001</th>\n",
       "      <td>143899436</td>\n",
       "      <td>Multi-faceted self-efficacy beliefs as predict...</td>\n",
       "      <td>Abstract In a longitudinal design, 650 young a...</td>\n",
       "      <td>2007</td>\n",
       "      <td>10.1016/j.paid.2007.05.018</td>\n",
       "      <td>NaN</td>\n",
       "      <td>Personality and Individual Differences</td>\n",
       "      <td>NaN</td>\n",
       "      <td>[]</td>\n",
       "      <td>['nf']</td>\n",
       "      <td>...</td>\n",
       "      <td>0</td>\n",
       "      <td>0</td>\n",
       "      <td>0</td>\n",
       "      <td>0</td>\n",
       "      <td>0</td>\n",
       "      <td>0</td>\n",
       "      <td>0</td>\n",
       "      <td>0</td>\n",
       "      <td>[input_ids, attention_mask]</td>\n",
       "      <td>121</td>\n",
       "    </tr>\n",
       "    <tr>\n",
       "      <th>140002</th>\n",
       "      <td>27202509</td>\n",
       "      <td>LARYNGEAL REINNERVATION WITH THE HYPOGLOSSAL N...</td>\n",
       "      <td>This study was performed to determine whether ...</td>\n",
       "      <td>2001</td>\n",
       "      <td>10.1177/000348940111000607</td>\n",
       "      <td>NaN</td>\n",
       "      <td>Annals of Otology, Rhinology &amp; Laryngology</td>\n",
       "      <td>NaN</td>\n",
       "      <td>[]</td>\n",
       "      <td>['nf']</td>\n",
       "      <td>...</td>\n",
       "      <td>0</td>\n",
       "      <td>0</td>\n",
       "      <td>0</td>\n",
       "      <td>0</td>\n",
       "      <td>0</td>\n",
       "      <td>0</td>\n",
       "      <td>0</td>\n",
       "      <td>0</td>\n",
       "      <td>[input_ids, attention_mask]</td>\n",
       "      <td>563</td>\n",
       "    </tr>\n",
       "    <tr>\n",
       "      <th>140003</th>\n",
       "      <td>27202780</td>\n",
       "      <td>The combinatorial guidance activities of draxi...</td>\n",
       "      <td>We have shown that draxin is a repulsive axon ...</td>\n",
       "      <td>2013</td>\n",
       "      <td>10.1016/j.ydbio.2012.11.029</td>\n",
       "      <td>Developmental biology</td>\n",
       "      <td>Developmental biology</td>\n",
       "      <td>NaN</td>\n",
       "      <td>[]</td>\n",
       "      <td>['nf']</td>\n",
       "      <td>...</td>\n",
       "      <td>0</td>\n",
       "      <td>0</td>\n",
       "      <td>0</td>\n",
       "      <td>0</td>\n",
       "      <td>0</td>\n",
       "      <td>0</td>\n",
       "      <td>0</td>\n",
       "      <td>0</td>\n",
       "      <td>[input_ids, attention_mask]</td>\n",
       "      <td>448</td>\n",
       "    </tr>\n",
       "    <tr>\n",
       "      <th>140004</th>\n",
       "      <td>27204494</td>\n",
       "      <td>Establishing a Baseline: Community Benefit Spe...</td>\n",
       "      <td>Context:Community Benefit spending by not-for-...</td>\n",
       "      <td>2017</td>\n",
       "      <td>10.1097/PHH.0000000000000493</td>\n",
       "      <td>NaN</td>\n",
       "      <td>Journal of Public Health Management and Practice</td>\n",
       "      <td>NaN</td>\n",
       "      <td>[]</td>\n",
       "      <td>['nf']</td>\n",
       "      <td>...</td>\n",
       "      <td>0</td>\n",
       "      <td>0</td>\n",
       "      <td>0</td>\n",
       "      <td>0</td>\n",
       "      <td>0</td>\n",
       "      <td>0</td>\n",
       "      <td>0</td>\n",
       "      <td>0</td>\n",
       "      <td>[input_ids, attention_mask]</td>\n",
       "      <td>66</td>\n",
       "    </tr>\n",
       "    <tr>\n",
       "      <th>140005</th>\n",
       "      <td>27205443</td>\n",
       "      <td>Experience of Long-Term Afala Treatment in Ben...</td>\n",
       "      <td>The use of ultralow doses of antibodies to pro...</td>\n",
       "      <td>2009</td>\n",
       "      <td>10.1007/s10517-009-0695-8</td>\n",
       "      <td>Bulletin of Experimental Biology and Medicine</td>\n",
       "      <td>Bulletin of Experimental Biology and Medicine</td>\n",
       "      <td>NaN</td>\n",
       "      <td>[]</td>\n",
       "      <td>['nf']</td>\n",
       "      <td>...</td>\n",
       "      <td>0</td>\n",
       "      <td>0</td>\n",
       "      <td>0</td>\n",
       "      <td>0</td>\n",
       "      <td>0</td>\n",
       "      <td>0</td>\n",
       "      <td>0</td>\n",
       "      <td>0</td>\n",
       "      <td>[input_ids, attention_mask]</td>\n",
       "      <td>96</td>\n",
       "    </tr>\n",
       "  </tbody>\n",
       "</table>\n",
       "<p>5 rows × 263 columns</p>\n",
       "</div>"
      ],
      "text/plain": [
       "         paper_id                                              title  \\\n",
       "index                                                                  \n",
       "140001  143899436  Multi-faceted self-efficacy beliefs as predict...   \n",
       "140002   27202509  LARYNGEAL REINNERVATION WITH THE HYPOGLOSSAL N...   \n",
       "140003   27202780  The combinatorial guidance activities of draxi...   \n",
       "140004   27204494  Establishing a Baseline: Community Benefit Spe...   \n",
       "140005   27205443  Experience of Long-Term Afala Treatment in Ben...   \n",
       "\n",
       "                                                 abstract  year  \\\n",
       "index                                                             \n",
       "140001  Abstract In a longitudinal design, 650 young a...  2007   \n",
       "140002  This study was performed to determine whether ...  2001   \n",
       "140003  We have shown that draxin is a repulsive axon ...  2013   \n",
       "140004  Context:Community Benefit spending by not-for-...  2017   \n",
       "140005  The use of ultralow doses of antibodies to pro...  2009   \n",
       "\n",
       "                                 doi  \\\n",
       "index                                  \n",
       "140001    10.1016/j.paid.2007.05.018   \n",
       "140002    10.1177/000348940111000607   \n",
       "140003   10.1016/j.ydbio.2012.11.029   \n",
       "140004  10.1097/PHH.0000000000000493   \n",
       "140005     10.1007/s10517-009-0695-8   \n",
       "\n",
       "                                                venue  \\\n",
       "index                                                   \n",
       "140001                                            NaN   \n",
       "140002                                            NaN   \n",
       "140003                          Developmental biology   \n",
       "140004                                            NaN   \n",
       "140005  Bulletin of Experimental Biology and Medicine   \n",
       "\n",
       "                                                 journal  mag_field_of_study  \\\n",
       "index                                                                          \n",
       "140001            Personality and Individual Differences                 NaN   \n",
       "140002        Annals of Otology, Rhinology & Laryngology                 NaN   \n",
       "140003                             Developmental biology                 NaN   \n",
       "140004  Journal of Public Health Management and Practice                 NaN   \n",
       "140005     Bulletin of Experimental Biology and Medicine                 NaN   \n",
       "\n",
       "       places countries  ...  HMD  IOT  MSR  PYF  SPM  SXM  UMI  WSM  \\\n",
       "index                    ...                                           \n",
       "140001     []    ['nf']  ...    0    0    0    0    0    0    0    0   \n",
       "140002     []    ['nf']  ...    0    0    0    0    0    0    0    0   \n",
       "140003     []    ['nf']  ...    0    0    0    0    0    0    0    0   \n",
       "140004     []    ['nf']  ...    0    0    0    0    0    0    0    0   \n",
       "140005     []    ['nf']  ...    0    0    0    0    0    0    0    0   \n",
       "\n",
       "                             tokens  len_token  \n",
       "index                                           \n",
       "140001  [input_ids, attention_mask]        121  \n",
       "140002  [input_ids, attention_mask]        563  \n",
       "140003  [input_ids, attention_mask]        448  \n",
       "140004  [input_ids, attention_mask]         66  \n",
       "140005  [input_ids, attention_mask]         96  \n",
       "\n",
       "[5 rows x 263 columns]"
      ]
     },
     "execution_count": 105,
     "metadata": {},
     "output_type": "execute_result"
    }
   ],
   "source": [
    "df_2.head(5)"
   ]
  },
  {
   "cell_type": "code",
   "execution_count": 106,
   "id": "f0094c7e",
   "metadata": {},
   "outputs": [],
   "source": [
    "df_21=df_2[df_2['len_token'] > 512]"
   ]
  },
  {
   "cell_type": "code",
   "execution_count": 213,
   "id": "bf94048c",
   "metadata": {},
   "outputs": [
    {
     "data": {
      "text/plain": [
       "11320"
      ]
     },
     "execution_count": 213,
     "metadata": {},
     "output_type": "execute_result"
    }
   ],
   "source": [
    "len(df_21)"
   ]
  },
  {
   "cell_type": "code",
   "execution_count": 107,
   "id": "f6bc5e7e",
   "metadata": {},
   "outputs": [],
   "source": [
    "df_22 = df_2[df_2['len_token']<512]"
   ]
  },
  {
   "cell_type": "code",
   "execution_count": 110,
   "id": "bae3a78c",
   "metadata": {},
   "outputs": [
    {
     "data": {
      "text/plain": [
       "128560"
      ]
     },
     "execution_count": 110,
     "metadata": {},
     "output_type": "execute_result"
    }
   ],
   "source": [
    "len(df_22)"
   ]
  },
  {
   "cell_type": "code",
   "execution_count": null,
   "id": "c0bdc437",
   "metadata": {},
   "outputs": [
    {
     "name": "stderr",
     "output_type": "stream",
     "text": [
      "/home/ec2-user/anaconda3/envs/amazonei_pytorch_latest_p37/lib/python3.7/site-packages/ipykernel/__main__.py:1: SettingWithCopyWarning: \n",
      "A value is trying to be set on a copy of a slice from a DataFrame.\n",
      "Try using .loc[row_indexer,col_indexer] = value instead\n",
      "\n",
      "See the caveats in the documentation: https://pandas.pydata.org/pandas-docs/stable/user_guide/indexing.html#returning-a-view-versus-a-copy\n",
      "  if __name__ == '__main__':\n"
     ]
    }
   ],
   "source": [
    "df_22['label_p']= df_22.abstract.apply(my_pipeline)"
   ]
  },
  {
   "cell_type": "code",
   "execution_count": 109,
   "id": "fa0a5ca3",
   "metadata": {},
   "outputs": [
    {
     "data": {
      "text/plain": [
       "False    128560\n",
       "Name: label_p, dtype: int64"
      ]
     },
     "execution_count": 109,
     "metadata": {},
     "output_type": "execute_result"
    }
   ],
   "source": [
    "df_22['label_p'].isna().value_counts()"
   ]
  },
  {
   "cell_type": "code",
   "execution_count": 111,
   "id": "bb21c8a0",
   "metadata": {},
   "outputs": [
    {
     "data": {
      "text/html": [
       "<div>\n",
       "<style scoped>\n",
       "    .dataframe tbody tr th:only-of-type {\n",
       "        vertical-align: middle;\n",
       "    }\n",
       "\n",
       "    .dataframe tbody tr th {\n",
       "        vertical-align: top;\n",
       "    }\n",
       "\n",
       "    .dataframe thead th {\n",
       "        text-align: right;\n",
       "    }\n",
       "</style>\n",
       "<table border=\"1\" class=\"dataframe\">\n",
       "  <thead>\n",
       "    <tr style=\"text-align: right;\">\n",
       "      <th></th>\n",
       "      <th>paper_id</th>\n",
       "      <th>title</th>\n",
       "      <th>abstract</th>\n",
       "      <th>year</th>\n",
       "      <th>doi</th>\n",
       "      <th>venue</th>\n",
       "      <th>journal</th>\n",
       "      <th>mag_field_of_study</th>\n",
       "      <th>places</th>\n",
       "      <th>countries</th>\n",
       "      <th>...</th>\n",
       "      <th>IOT</th>\n",
       "      <th>MSR</th>\n",
       "      <th>PYF</th>\n",
       "      <th>SPM</th>\n",
       "      <th>SXM</th>\n",
       "      <th>UMI</th>\n",
       "      <th>WSM</th>\n",
       "      <th>tokens</th>\n",
       "      <th>len_token</th>\n",
       "      <th>label_p</th>\n",
       "    </tr>\n",
       "    <tr>\n",
       "      <th>index</th>\n",
       "      <th></th>\n",
       "      <th></th>\n",
       "      <th></th>\n",
       "      <th></th>\n",
       "      <th></th>\n",
       "      <th></th>\n",
       "      <th></th>\n",
       "      <th></th>\n",
       "      <th></th>\n",
       "      <th></th>\n",
       "      <th></th>\n",
       "      <th></th>\n",
       "      <th></th>\n",
       "      <th></th>\n",
       "      <th></th>\n",
       "      <th></th>\n",
       "      <th></th>\n",
       "      <th></th>\n",
       "      <th></th>\n",
       "      <th></th>\n",
       "      <th></th>\n",
       "    </tr>\n",
       "  </thead>\n",
       "  <tbody>\n",
       "    <tr>\n",
       "      <th>140001</th>\n",
       "      <td>143899436</td>\n",
       "      <td>Multi-faceted self-efficacy beliefs as predict...</td>\n",
       "      <td>Abstract In a longitudinal design, 650 young a...</td>\n",
       "      <td>2007</td>\n",
       "      <td>10.1016/j.paid.2007.05.018</td>\n",
       "      <td>NaN</td>\n",
       "      <td>Personality and Individual Differences</td>\n",
       "      <td>NaN</td>\n",
       "      <td>[]</td>\n",
       "      <td>['nf']</td>\n",
       "      <td>...</td>\n",
       "      <td>0</td>\n",
       "      <td>0</td>\n",
       "      <td>0</td>\n",
       "      <td>0</td>\n",
       "      <td>0</td>\n",
       "      <td>0</td>\n",
       "      <td>0</td>\n",
       "      <td>[input_ids, attention_mask]</td>\n",
       "      <td>121</td>\n",
       "      <td>[{'label': 'LABEL_1', 'score': 0.9976602792739...</td>\n",
       "    </tr>\n",
       "    <tr>\n",
       "      <th>140003</th>\n",
       "      <td>27202780</td>\n",
       "      <td>The combinatorial guidance activities of draxi...</td>\n",
       "      <td>We have shown that draxin is a repulsive axon ...</td>\n",
       "      <td>2013</td>\n",
       "      <td>10.1016/j.ydbio.2012.11.029</td>\n",
       "      <td>Developmental biology</td>\n",
       "      <td>Developmental biology</td>\n",
       "      <td>NaN</td>\n",
       "      <td>[]</td>\n",
       "      <td>['nf']</td>\n",
       "      <td>...</td>\n",
       "      <td>0</td>\n",
       "      <td>0</td>\n",
       "      <td>0</td>\n",
       "      <td>0</td>\n",
       "      <td>0</td>\n",
       "      <td>0</td>\n",
       "      <td>0</td>\n",
       "      <td>[input_ids, attention_mask]</td>\n",
       "      <td>448</td>\n",
       "      <td>[{'label': 'LABEL_1', 'score': 0.9979857206344...</td>\n",
       "    </tr>\n",
       "    <tr>\n",
       "      <th>140004</th>\n",
       "      <td>27204494</td>\n",
       "      <td>Establishing a Baseline: Community Benefit Spe...</td>\n",
       "      <td>Context:Community Benefit spending by not-for-...</td>\n",
       "      <td>2017</td>\n",
       "      <td>10.1097/PHH.0000000000000493</td>\n",
       "      <td>NaN</td>\n",
       "      <td>Journal of Public Health Management and Practice</td>\n",
       "      <td>NaN</td>\n",
       "      <td>[]</td>\n",
       "      <td>['nf']</td>\n",
       "      <td>...</td>\n",
       "      <td>0</td>\n",
       "      <td>0</td>\n",
       "      <td>0</td>\n",
       "      <td>0</td>\n",
       "      <td>0</td>\n",
       "      <td>0</td>\n",
       "      <td>0</td>\n",
       "      <td>[input_ids, attention_mask]</td>\n",
       "      <td>66</td>\n",
       "      <td>[{'label': 'LABEL_0', 'score': 0.9112386703491...</td>\n",
       "    </tr>\n",
       "    <tr>\n",
       "      <th>140005</th>\n",
       "      <td>27205443</td>\n",
       "      <td>Experience of Long-Term Afala Treatment in Ben...</td>\n",
       "      <td>The use of ultralow doses of antibodies to pro...</td>\n",
       "      <td>2009</td>\n",
       "      <td>10.1007/s10517-009-0695-8</td>\n",
       "      <td>Bulletin of Experimental Biology and Medicine</td>\n",
       "      <td>Bulletin of Experimental Biology and Medicine</td>\n",
       "      <td>NaN</td>\n",
       "      <td>[]</td>\n",
       "      <td>['nf']</td>\n",
       "      <td>...</td>\n",
       "      <td>0</td>\n",
       "      <td>0</td>\n",
       "      <td>0</td>\n",
       "      <td>0</td>\n",
       "      <td>0</td>\n",
       "      <td>0</td>\n",
       "      <td>0</td>\n",
       "      <td>[input_ids, attention_mask]</td>\n",
       "      <td>96</td>\n",
       "      <td>[{'label': 'LABEL_0', 'score': 0.9709614515304...</td>\n",
       "    </tr>\n",
       "    <tr>\n",
       "      <th>140006</th>\n",
       "      <td>27205655</td>\n",
       "      <td>Immuno-identification of cultures of fungi pat...</td>\n",
       "      <td>Because isolates of the fungal pathogensBlasto...</td>\n",
       "      <td>2007</td>\n",
       "      <td>10.1007/BF02601665</td>\n",
       "      <td>Current Microbiology</td>\n",
       "      <td>Current Microbiology</td>\n",
       "      <td>NaN</td>\n",
       "      <td>[]</td>\n",
       "      <td>['nf']</td>\n",
       "      <td>...</td>\n",
       "      <td>0</td>\n",
       "      <td>0</td>\n",
       "      <td>0</td>\n",
       "      <td>0</td>\n",
       "      <td>0</td>\n",
       "      <td>0</td>\n",
       "      <td>0</td>\n",
       "      <td>[input_ids, attention_mask]</td>\n",
       "      <td>228</td>\n",
       "      <td>[{'label': 'LABEL_1', 'score': 0.9913798570632...</td>\n",
       "    </tr>\n",
       "  </tbody>\n",
       "</table>\n",
       "<p>5 rows × 264 columns</p>\n",
       "</div>"
      ],
      "text/plain": [
       "         paper_id                                              title  \\\n",
       "index                                                                  \n",
       "140001  143899436  Multi-faceted self-efficacy beliefs as predict...   \n",
       "140003   27202780  The combinatorial guidance activities of draxi...   \n",
       "140004   27204494  Establishing a Baseline: Community Benefit Spe...   \n",
       "140005   27205443  Experience of Long-Term Afala Treatment in Ben...   \n",
       "140006   27205655  Immuno-identification of cultures of fungi pat...   \n",
       "\n",
       "                                                 abstract  year  \\\n",
       "index                                                             \n",
       "140001  Abstract In a longitudinal design, 650 young a...  2007   \n",
       "140003  We have shown that draxin is a repulsive axon ...  2013   \n",
       "140004  Context:Community Benefit spending by not-for-...  2017   \n",
       "140005  The use of ultralow doses of antibodies to pro...  2009   \n",
       "140006  Because isolates of the fungal pathogensBlasto...  2007   \n",
       "\n",
       "                                 doi  \\\n",
       "index                                  \n",
       "140001    10.1016/j.paid.2007.05.018   \n",
       "140003   10.1016/j.ydbio.2012.11.029   \n",
       "140004  10.1097/PHH.0000000000000493   \n",
       "140005     10.1007/s10517-009-0695-8   \n",
       "140006            10.1007/BF02601665   \n",
       "\n",
       "                                                venue  \\\n",
       "index                                                   \n",
       "140001                                            NaN   \n",
       "140003                          Developmental biology   \n",
       "140004                                            NaN   \n",
       "140005  Bulletin of Experimental Biology and Medicine   \n",
       "140006                           Current Microbiology   \n",
       "\n",
       "                                                 journal  mag_field_of_study  \\\n",
       "index                                                                          \n",
       "140001            Personality and Individual Differences                 NaN   \n",
       "140003                             Developmental biology                 NaN   \n",
       "140004  Journal of Public Health Management and Practice                 NaN   \n",
       "140005     Bulletin of Experimental Biology and Medicine                 NaN   \n",
       "140006                              Current Microbiology                 NaN   \n",
       "\n",
       "       places countries  ...  IOT  MSR  PYF  SPM  SXM  UMI  WSM  \\\n",
       "index                    ...                                      \n",
       "140001     []    ['nf']  ...    0    0    0    0    0    0    0   \n",
       "140003     []    ['nf']  ...    0    0    0    0    0    0    0   \n",
       "140004     []    ['nf']  ...    0    0    0    0    0    0    0   \n",
       "140005     []    ['nf']  ...    0    0    0    0    0    0    0   \n",
       "140006     []    ['nf']  ...    0    0    0    0    0    0    0   \n",
       "\n",
       "                             tokens  len_token  \\\n",
       "index                                            \n",
       "140001  [input_ids, attention_mask]        121   \n",
       "140003  [input_ids, attention_mask]        448   \n",
       "140004  [input_ids, attention_mask]         66   \n",
       "140005  [input_ids, attention_mask]         96   \n",
       "140006  [input_ids, attention_mask]        228   \n",
       "\n",
       "                                                  label_p  \n",
       "index                                                      \n",
       "140001  [{'label': 'LABEL_1', 'score': 0.9976602792739...  \n",
       "140003  [{'label': 'LABEL_1', 'score': 0.9979857206344...  \n",
       "140004  [{'label': 'LABEL_0', 'score': 0.9112386703491...  \n",
       "140005  [{'label': 'LABEL_0', 'score': 0.9709614515304...  \n",
       "140006  [{'label': 'LABEL_1', 'score': 0.9913798570632...  \n",
       "\n",
       "[5 rows x 264 columns]"
      ]
     },
     "execution_count": 111,
     "metadata": {},
     "output_type": "execute_result"
    }
   ],
   "source": [
    "df_22.head(5)"
   ]
  },
  {
   "cell_type": "code",
   "execution_count": 112,
   "id": "a3bc12b5",
   "metadata": {},
   "outputs": [],
   "source": [
    "data_use = []\n",
    "for index, row in df_22.iterrows():\n",
    "    if row[263][0]['label'] == 'LABEL_1':\n",
    "        k = 'Yes'\n",
    "        data_use.append(k)\n",
    "    else:\n",
    "        k = 'No'\n",
    "        data_use.append(k)"
   ]
  },
  {
   "cell_type": "code",
   "execution_count": 113,
   "id": "d623b0f1",
   "metadata": {},
   "outputs": [],
   "source": [
    "df_22.insert(263, 'data_use', data_use, allow_duplicates=False)"
   ]
  },
  {
   "cell_type": "code",
   "execution_count": 114,
   "id": "79d7253e",
   "metadata": {},
   "outputs": [
    {
     "data": {
      "text/plain": [
       "Yes    99482\n",
       "No     29078\n",
       "Name: data_use, dtype: int64"
      ]
     },
     "execution_count": 114,
     "metadata": {},
     "output_type": "execute_result"
    }
   ],
   "source": [
    "df_22['data_use'].value_counts()"
   ]
  },
  {
   "cell_type": "code",
   "execution_count": 115,
   "id": "cb5cd348",
   "metadata": {},
   "outputs": [],
   "source": [
    "df_22.to_csv('result_22.csv')"
   ]
  },
  {
   "cell_type": "code",
   "execution_count": 116,
   "id": "9fd19ce1",
   "metadata": {},
   "outputs": [],
   "source": [
    "df_3 = df_t.iloc[280000:500000]"
   ]
  },
  {
   "cell_type": "code",
   "execution_count": 147,
   "id": "2edbb37f",
   "metadata": {},
   "outputs": [
    {
     "data": {
      "text/plain": [
       "220000"
      ]
     },
     "execution_count": 147,
     "metadata": {},
     "output_type": "execute_result"
    }
   ],
   "source": [
    "len(df_3)"
   ]
  },
  {
   "cell_type": "code",
   "execution_count": null,
   "id": "ed4e90f3",
   "metadata": {},
   "outputs": [
    {
     "name": "stderr",
     "output_type": "stream",
     "text": [
      "/home/ec2-user/anaconda3/envs/amazonei_pytorch_latest_p37/lib/python3.7/site-packages/ipykernel/__main__.py:1: SettingWithCopyWarning: \n",
      "A value is trying to be set on a copy of a slice from a DataFrame.\n",
      "Try using .loc[row_indexer,col_indexer] = value instead\n",
      "\n",
      "See the caveats in the documentation: https://pandas.pydata.org/pandas-docs/stable/user_guide/indexing.html#returning-a-view-versus-a-copy\n",
      "  if __name__ == '__main__':\n"
     ]
    }
   ],
   "source": [
    "df_3['tokens'] = df_3.abstract.apply(tokenizer)"
   ]
  },
  {
   "cell_type": "code",
   "execution_count": null,
   "id": "125d2e7d",
   "metadata": {},
   "outputs": [],
   "source": [
    "len_token=[]\n",
    "for i in range(len(df_3)):\n",
    "    len_token.append(len(df_3.iloc[i]['tokens']['input_ids']))"
   ]
  },
  {
   "cell_type": "code",
   "execution_count": 156,
   "id": "3bfcf8da",
   "metadata": {},
   "outputs": [
    {
     "name": "stdout",
     "output_type": "stream",
     "text": [
      "[192, 177, 182, 263, 371, 281, 353, 285, 246, 196, 107, 355, 36, 155, 108, 259, 190, 150, 192, 44, 452, 230, 589, 117, 360, 140, 250, 398, 228, 724, 163, 159, 466, 66, 500, 148, 160, 456, 244, 258, 184, 98, 542, 285, 457, 123, 514, 284, 437, 249, 221, 255, 476, 113, 332, 133, 280, 510, 202, 178, 211, 69, 55, 288, 515, 296, 391, 152, 413, 948, 190, 300, 691, 183, 381, 341, 301, 375, 262, 346, 219, 185, 212, 118, 346, 446, 403, 268, 301, 445, 117, 275, 271, 153, 43, 150, 245, 178, 176, 34]\n"
     ]
    }
   ],
   "source": [
    "print(len_token[:100])"
   ]
  },
  {
   "cell_type": "code",
   "execution_count": 159,
   "id": "ecbb06b2",
   "metadata": {},
   "outputs": [
    {
     "name": "stderr",
     "output_type": "stream",
     "text": [
      "/home/ec2-user/anaconda3/envs/amazonei_pytorch_latest_p37/lib/python3.7/site-packages/pandas/core/indexing.py:1773: SettingWithCopyWarning: \n",
      "A value is trying to be set on a copy of a slice from a DataFrame.\n",
      "Try using .loc[row_indexer,col_indexer] = value instead\n",
      "\n",
      "See the caveats in the documentation: https://pandas.pydata.org/pandas-docs/stable/user_guide/indexing.html#returning-a-view-versus-a-copy\n",
      "  self._setitem_single_column(ilocs[0], value, pi)\n"
     ]
    }
   ],
   "source": [
    "df_3.loc[:,'len_token'] = len_token"
   ]
  },
  {
   "cell_type": "code",
   "execution_count": 161,
   "id": "064f1e24",
   "metadata": {},
   "outputs": [],
   "source": [
    "df_31=df_3[df_3['len_token'] > 512]"
   ]
  },
  {
   "cell_type": "code",
   "execution_count": 170,
   "id": "22904860",
   "metadata": {},
   "outputs": [
    {
     "data": {
      "text/plain": [
       "17801"
      ]
     },
     "execution_count": 170,
     "metadata": {},
     "output_type": "execute_result"
    }
   ],
   "source": [
    "len(df_31)"
   ]
  },
  {
   "cell_type": "code",
   "execution_count": 175,
   "id": "6c5f4cb3",
   "metadata": {},
   "outputs": [],
   "source": [
    "df_32 = df_3[df_3['len_token']<512]"
   ]
  },
  {
   "cell_type": "code",
   "execution_count": 177,
   "id": "c4553eb8",
   "metadata": {},
   "outputs": [],
   "source": [
    "df_long = pd.concat([df_11,df_21,df_31],ignore_index=True)"
   ]
  },
  {
   "cell_type": "code",
   "execution_count": 195,
   "id": "3919ac1c",
   "metadata": {},
   "outputs": [],
   "source": [
    "df_long = pd.concat([df_long,df_41],ignore_index=True)"
   ]
  },
  {
   "cell_type": "code",
   "execution_count": 214,
   "id": "1e0a82a1",
   "metadata": {},
   "outputs": [
    {
     "data": {
      "text/plain": [
       "56790"
      ]
     },
     "execution_count": 214,
     "metadata": {},
     "output_type": "execute_result"
    }
   ],
   "source": [
    "len(df_long)"
   ]
  },
  {
   "cell_type": "code",
   "execution_count": 196,
   "id": "b4e5c60a",
   "metadata": {},
   "outputs": [],
   "source": [
    "df_long.to_csv('long_half.csv')"
   ]
  },
  {
   "cell_type": "code",
   "execution_count": null,
   "id": "d5b00036",
   "metadata": {},
   "outputs": [
    {
     "name": "stderr",
     "output_type": "stream",
     "text": [
      "/home/ec2-user/anaconda3/envs/amazonei_pytorch_latest_p37/lib/python3.7/site-packages/ipykernel/__main__.py:1: SettingWithCopyWarning: \n",
      "A value is trying to be set on a copy of a slice from a DataFrame.\n",
      "Try using .loc[row_indexer,col_indexer] = value instead\n",
      "\n",
      "See the caveats in the documentation: https://pandas.pydata.org/pandas-docs/stable/user_guide/indexing.html#returning-a-view-versus-a-copy\n",
      "  if __name__ == '__main__':\n"
     ]
    }
   ],
   "source": [
    "df_32['label_p']= df_32.abstract.apply(my_pipeline)"
   ]
  },
  {
   "cell_type": "code",
   "execution_count": null,
   "id": "21f29406",
   "metadata": {},
   "outputs": [
    {
     "data": {
      "text/plain": [
       "False    202001\n",
       "Name: label_p, dtype: int64"
      ]
     },
     "execution_count": 180,
     "metadata": {},
     "output_type": "execute_result"
    }
   ],
   "source": [
    "df_32['label_p'].isna().value_counts()"
   ]
  },
  {
   "cell_type": "code",
   "execution_count": null,
   "id": "1f6edddb",
   "metadata": {},
   "outputs": [],
   "source": [
    "data_use = []\n",
    "for index, row in df_32.iterrows():\n",
    "    if row[263][0]['label'] == 'LABEL_1':\n",
    "        k = 'Yes'\n",
    "        data_use.append(k)\n",
    "    else:\n",
    "        k = 'No'\n",
    "        data_use.append(k)"
   ]
  },
  {
   "cell_type": "code",
   "execution_count": null,
   "id": "29834600",
   "metadata": {},
   "outputs": [],
   "source": [
    "df_32.insert(263, 'data_use', data_use, allow_duplicates=False)"
   ]
  },
  {
   "cell_type": "code",
   "execution_count": null,
   "id": "a534bfcf",
   "metadata": {},
   "outputs": [
    {
     "data": {
      "text/plain": [
       "Yes    156725\n",
       "No      45276\n",
       "Name: data_use, dtype: int64"
      ]
     },
     "execution_count": 183,
     "metadata": {},
     "output_type": "execute_result"
    }
   ],
   "source": [
    "df_32['data_use'].value_counts()"
   ]
  },
  {
   "cell_type": "code",
   "execution_count": null,
   "id": "5ebed26a",
   "metadata": {},
   "outputs": [],
   "source": [
    "df_32.to_csv('result_32.csv')"
   ]
  },
  {
   "cell_type": "code",
   "execution_count": 218,
   "id": "20a7e678",
   "metadata": {},
   "outputs": [],
   "source": [
    "df_save = pd.concat([df_save,df_42],ignore_index=True)"
   ]
  },
  {
   "cell_type": "code",
   "execution_count": 274,
   "id": "c3b033aa",
   "metadata": {},
   "outputs": [],
   "source": [
    "df_save.to_csv('save_half.csv')"
   ]
  },
  {
   "cell_type": "code",
   "execution_count": 187,
   "id": "782f0113",
   "metadata": {},
   "outputs": [],
   "source": [
    "df_4 = df_t.iloc[500000:700000]"
   ]
  },
  {
   "cell_type": "code",
   "execution_count": 188,
   "id": "870d8708",
   "metadata": {},
   "outputs": [
    {
     "data": {
      "text/plain": [
       "200000"
      ]
     },
     "execution_count": 188,
     "metadata": {},
     "output_type": "execute_result"
    }
   ],
   "source": [
    "len(df_4)"
   ]
  },
  {
   "cell_type": "code",
   "execution_count": 189,
   "id": "7604c548",
   "metadata": {},
   "outputs": [
    {
     "name": "stderr",
     "output_type": "stream",
     "text": [
      "/home/ec2-user/anaconda3/envs/amazonei_pytorch_latest_p37/lib/python3.7/site-packages/ipykernel/__main__.py:1: SettingWithCopyWarning: \n",
      "A value is trying to be set on a copy of a slice from a DataFrame.\n",
      "Try using .loc[row_indexer,col_indexer] = value instead\n",
      "\n",
      "See the caveats in the documentation: https://pandas.pydata.org/pandas-docs/stable/user_guide/indexing.html#returning-a-view-versus-a-copy\n",
      "  if __name__ == '__main__':\n"
     ]
    }
   ],
   "source": [
    "df_4['tokens'] = df_4.abstract.apply(tokenizer)"
   ]
  },
  {
   "cell_type": "code",
   "execution_count": 190,
   "id": "761b963b",
   "metadata": {},
   "outputs": [],
   "source": [
    "len_token=[]\n",
    "for i in range(len(df_4)):\n",
    "    len_token.append(len(df_4.iloc[i]['tokens']['input_ids']))"
   ]
  },
  {
   "cell_type": "code",
   "execution_count": 191,
   "id": "be031f86",
   "metadata": {},
   "outputs": [
    {
     "name": "stderr",
     "output_type": "stream",
     "text": [
      "/home/ec2-user/anaconda3/envs/amazonei_pytorch_latest_p37/lib/python3.7/site-packages/pandas/core/indexing.py:1667: SettingWithCopyWarning: \n",
      "A value is trying to be set on a copy of a slice from a DataFrame.\n",
      "Try using .loc[row_indexer,col_indexer] = value instead\n",
      "\n",
      "See the caveats in the documentation: https://pandas.pydata.org/pandas-docs/stable/user_guide/indexing.html#returning-a-view-versus-a-copy\n",
      "  self.obj[key] = value\n"
     ]
    }
   ],
   "source": [
    "df_4.loc[:,'len_token'] = len_token"
   ]
  },
  {
   "cell_type": "code",
   "execution_count": 192,
   "id": "4594d1a3",
   "metadata": {},
   "outputs": [],
   "source": [
    "df_41=df_4[df_4['len_token'] > 512]"
   ]
  },
  {
   "cell_type": "code",
   "execution_count": 193,
   "id": "aa76d93c",
   "metadata": {},
   "outputs": [
    {
     "data": {
      "text/plain": [
       "16240"
      ]
     },
     "execution_count": 193,
     "metadata": {},
     "output_type": "execute_result"
    }
   ],
   "source": [
    "len(df_41)"
   ]
  },
  {
   "cell_type": "code",
   "execution_count": 194,
   "id": "5f3f2708",
   "metadata": {},
   "outputs": [],
   "source": [
    "df_42 = df_4[df_4['len_token']<512]"
   ]
  },
  {
   "cell_type": "code",
   "execution_count": null,
   "id": "6932ea5f",
   "metadata": {},
   "outputs": [
    {
     "data": {
      "text/plain": [
       "183600"
      ]
     },
     "execution_count": 198,
     "metadata": {},
     "output_type": "execute_result"
    }
   ],
   "source": [
    "len(df_42)"
   ]
  },
  {
   "cell_type": "code",
   "execution_count": null,
   "id": "011f8462",
   "metadata": {},
   "outputs": [
    {
     "name": "stderr",
     "output_type": "stream",
     "text": [
      "/home/ec2-user/anaconda3/envs/amazonei_pytorch_latest_p37/lib/python3.7/site-packages/ipykernel/__main__.py:1: SettingWithCopyWarning: \n",
      "A value is trying to be set on a copy of a slice from a DataFrame.\n",
      "Try using .loc[row_indexer,col_indexer] = value instead\n",
      "\n",
      "See the caveats in the documentation: https://pandas.pydata.org/pandas-docs/stable/user_guide/indexing.html#returning-a-view-versus-a-copy\n",
      "  if __name__ == '__main__':\n"
     ]
    }
   ],
   "source": [
    "df_42['label_p']= df_42.abstract.apply(my_pipeline)"
   ]
  },
  {
   "cell_type": "code",
   "execution_count": null,
   "id": "34270759",
   "metadata": {},
   "outputs": [
    {
     "data": {
      "text/plain": [
       "False    183600\n",
       "Name: label_p, dtype: int64"
      ]
     },
     "execution_count": 199,
     "metadata": {},
     "output_type": "execute_result"
    }
   ],
   "source": [
    "df_42['label_p'].isna().value_counts()"
   ]
  },
  {
   "cell_type": "code",
   "execution_count": null,
   "id": "424b48e8",
   "metadata": {},
   "outputs": [],
   "source": [
    "data_use = []\n",
    "for index, row in df_42.iterrows():\n",
    "    if row[263][0]['label'] == 'LABEL_1':\n",
    "        k = 'Yes'\n",
    "        data_use.append(k)\n",
    "    else:\n",
    "        k = 'No'\n",
    "        data_use.append(k)"
   ]
  },
  {
   "cell_type": "code",
   "execution_count": null,
   "id": "78324d01",
   "metadata": {},
   "outputs": [],
   "source": [
    "df_42.insert(263, 'data_use', data_use, allow_duplicates=False)"
   ]
  },
  {
   "cell_type": "code",
   "execution_count": null,
   "id": "3a51e11d",
   "metadata": {},
   "outputs": [
    {
     "data": {
      "text/plain": [
       "Yes    142778\n",
       "No      40822\n",
       "Name: data_use, dtype: int64"
      ]
     },
     "execution_count": 202,
     "metadata": {},
     "output_type": "execute_result"
    }
   ],
   "source": [
    "df_42['data_use'].value_counts()"
   ]
  },
  {
   "cell_type": "code",
   "execution_count": null,
   "id": "77ece196",
   "metadata": {},
   "outputs": [],
   "source": [
    "df_42.to_csv('result_42.csv')"
   ]
  },
  {
   "cell_type": "code",
   "execution_count": 204,
   "id": "d16a60db",
   "metadata": {},
   "outputs": [],
   "source": [
    "df_5 = df_t.iloc[700000:]"
   ]
  },
  {
   "cell_type": "code",
   "execution_count": 205,
   "id": "8f7b633b",
   "metadata": {},
   "outputs": [
    {
     "data": {
      "text/plain": [
       "338612"
      ]
     },
     "execution_count": 205,
     "metadata": {},
     "output_type": "execute_result"
    }
   ],
   "source": [
    "len(df_5)"
   ]
  },
  {
   "cell_type": "code",
   "execution_count": 206,
   "id": "10fca142",
   "metadata": {},
   "outputs": [
    {
     "name": "stderr",
     "output_type": "stream",
     "text": [
      "/home/ec2-user/anaconda3/envs/amazonei_pytorch_latest_p37/lib/python3.7/site-packages/ipykernel/__main__.py:1: SettingWithCopyWarning: \n",
      "A value is trying to be set on a copy of a slice from a DataFrame.\n",
      "Try using .loc[row_indexer,col_indexer] = value instead\n",
      "\n",
      "See the caveats in the documentation: https://pandas.pydata.org/pandas-docs/stable/user_guide/indexing.html#returning-a-view-versus-a-copy\n",
      "  if __name__ == '__main__':\n"
     ]
    }
   ],
   "source": [
    "df_5['tokens'] = df_5.abstract.apply(tokenizer)"
   ]
  },
  {
   "cell_type": "code",
   "execution_count": 207,
   "id": "6ae54aee",
   "metadata": {},
   "outputs": [],
   "source": [
    "len_token=[]\n",
    "for i in range(len(df_5)):\n",
    "    len_token.append(len(df_5.iloc[i]['tokens']['input_ids']))"
   ]
  },
  {
   "cell_type": "code",
   "execution_count": 208,
   "id": "09df24a2",
   "metadata": {},
   "outputs": [],
   "source": [
    "df_5.loc[:,'len_token'] = len_token"
   ]
  },
  {
   "cell_type": "code",
   "execution_count": 209,
   "id": "b73d8af9",
   "metadata": {},
   "outputs": [
    {
     "data": {
      "text/html": [
       "<div>\n",
       "<style scoped>\n",
       "    .dataframe tbody tr th:only-of-type {\n",
       "        vertical-align: middle;\n",
       "    }\n",
       "\n",
       "    .dataframe tbody tr th {\n",
       "        vertical-align: top;\n",
       "    }\n",
       "\n",
       "    .dataframe thead th {\n",
       "        text-align: right;\n",
       "    }\n",
       "</style>\n",
       "<table border=\"1\" class=\"dataframe\">\n",
       "  <thead>\n",
       "    <tr style=\"text-align: right;\">\n",
       "      <th></th>\n",
       "      <th>paper_id</th>\n",
       "      <th>title</th>\n",
       "      <th>abstract</th>\n",
       "      <th>year</th>\n",
       "      <th>doi</th>\n",
       "      <th>venue</th>\n",
       "      <th>journal</th>\n",
       "      <th>mag_field_of_study</th>\n",
       "      <th>places</th>\n",
       "      <th>countries</th>\n",
       "      <th>...</th>\n",
       "      <th>HMD</th>\n",
       "      <th>IOT</th>\n",
       "      <th>MSR</th>\n",
       "      <th>PYF</th>\n",
       "      <th>SPM</th>\n",
       "      <th>SXM</th>\n",
       "      <th>UMI</th>\n",
       "      <th>WSM</th>\n",
       "      <th>tokens</th>\n",
       "      <th>len_token</th>\n",
       "    </tr>\n",
       "    <tr>\n",
       "      <th>index</th>\n",
       "      <th></th>\n",
       "      <th></th>\n",
       "      <th></th>\n",
       "      <th></th>\n",
       "      <th></th>\n",
       "      <th></th>\n",
       "      <th></th>\n",
       "      <th></th>\n",
       "      <th></th>\n",
       "      <th></th>\n",
       "      <th></th>\n",
       "      <th></th>\n",
       "      <th></th>\n",
       "      <th></th>\n",
       "      <th></th>\n",
       "      <th></th>\n",
       "      <th></th>\n",
       "      <th></th>\n",
       "      <th></th>\n",
       "      <th></th>\n",
       "      <th></th>\n",
       "    </tr>\n",
       "  </thead>\n",
       "  <tbody>\n",
       "    <tr>\n",
       "      <th>700001</th>\n",
       "      <td>21072482</td>\n",
       "      <td>Validation of the Japanese version of the qual...</td>\n",
       "      <td>PURPOSE ::: The quality of recovery score QoR-...</td>\n",
       "      <td>2011</td>\n",
       "      <td>10.1007/s00540-011-1151-2</td>\n",
       "      <td>Journal of Anesthesia</td>\n",
       "      <td>Journal of Anesthesia</td>\n",
       "      <td>NaN</td>\n",
       "      <td>[Japan]</td>\n",
       "      <td>['JPN']</td>\n",
       "      <td>...</td>\n",
       "      <td>0</td>\n",
       "      <td>0</td>\n",
       "      <td>0</td>\n",
       "      <td>0</td>\n",
       "      <td>0</td>\n",
       "      <td>0</td>\n",
       "      <td>0</td>\n",
       "      <td>0</td>\n",
       "      <td>[input_ids, attention_mask]</td>\n",
       "      <td>496</td>\n",
       "    </tr>\n",
       "    <tr>\n",
       "      <th>700002</th>\n",
       "      <td>21072677</td>\n",
       "      <td>Trends in hepatitis B virus infection among bl...</td>\n",
       "      <td>The objective of this study was to determine t...</td>\n",
       "      <td>2007</td>\n",
       "      <td>NaN</td>\n",
       "      <td>The Southeast Asian journal of tropical medici...</td>\n",
       "      <td>The Southeast Asian journal of tropical medici...</td>\n",
       "      <td>NaN</td>\n",
       "      <td>[Malaysia, Kelantan, Malaysia]</td>\n",
       "      <td>['MYS']</td>\n",
       "      <td>...</td>\n",
       "      <td>0</td>\n",
       "      <td>0</td>\n",
       "      <td>0</td>\n",
       "      <td>0</td>\n",
       "      <td>0</td>\n",
       "      <td>0</td>\n",
       "      <td>0</td>\n",
       "      <td>0</td>\n",
       "      <td>[input_ids, attention_mask]</td>\n",
       "      <td>198</td>\n",
       "    </tr>\n",
       "    <tr>\n",
       "      <th>700003</th>\n",
       "      <td>21073138</td>\n",
       "      <td>Microscope observations of ART excavated cavit...</td>\n",
       "      <td>This in vitro light and scanning electron micr...</td>\n",
       "      <td>2002</td>\n",
       "      <td>NaN</td>\n",
       "      <td>SADJ : journal of the South African Dental Ass...</td>\n",
       "      <td>SADJ : journal of the South African Dental Ass...</td>\n",
       "      <td>NaN</td>\n",
       "      <td>[]</td>\n",
       "      <td>['nf']</td>\n",
       "      <td>...</td>\n",
       "      <td>0</td>\n",
       "      <td>0</td>\n",
       "      <td>0</td>\n",
       "      <td>0</td>\n",
       "      <td>0</td>\n",
       "      <td>0</td>\n",
       "      <td>0</td>\n",
       "      <td>0</td>\n",
       "      <td>[input_ids, attention_mask]</td>\n",
       "      <td>427</td>\n",
       "    </tr>\n",
       "    <tr>\n",
       "      <th>700004</th>\n",
       "      <td>21073322</td>\n",
       "      <td>Transplantation: Pretransplantation serum phos...</td>\n",
       "      <td>Transplantation: Pretransplantation serum phos...</td>\n",
       "      <td>2011</td>\n",
       "      <td>10.1038/nrneph.2011.167</td>\n",
       "      <td>Nature Reviews Nephrology</td>\n",
       "      <td>Nature Reviews Nephrology</td>\n",
       "      <td>NaN</td>\n",
       "      <td>[]</td>\n",
       "      <td>['nf']</td>\n",
       "      <td>...</td>\n",
       "      <td>0</td>\n",
       "      <td>0</td>\n",
       "      <td>0</td>\n",
       "      <td>0</td>\n",
       "      <td>0</td>\n",
       "      <td>0</td>\n",
       "      <td>0</td>\n",
       "      <td>0</td>\n",
       "      <td>[input_ids, attention_mask]</td>\n",
       "      <td>26</td>\n",
       "    </tr>\n",
       "    <tr>\n",
       "      <th>700005</th>\n",
       "      <td>21073443</td>\n",
       "      <td>Woodward's Words: Elegant and Commanding</td>\n",
       "      <td>Robert Burns Woodward's publications exhibit a...</td>\n",
       "      <td>2016</td>\n",
       "      <td>10.1002/anie.201600811</td>\n",
       "      <td>Angewandte Chemie</td>\n",
       "      <td>Angewandte Chemie</td>\n",
       "      <td>NaN</td>\n",
       "      <td>[]</td>\n",
       "      <td>['nf']</td>\n",
       "      <td>...</td>\n",
       "      <td>0</td>\n",
       "      <td>0</td>\n",
       "      <td>0</td>\n",
       "      <td>0</td>\n",
       "      <td>0</td>\n",
       "      <td>0</td>\n",
       "      <td>0</td>\n",
       "      <td>0</td>\n",
       "      <td>[input_ids, attention_mask]</td>\n",
       "      <td>64</td>\n",
       "    </tr>\n",
       "  </tbody>\n",
       "</table>\n",
       "<p>5 rows × 263 columns</p>\n",
       "</div>"
      ],
      "text/plain": [
       "        paper_id                                              title  \\\n",
       "index                                                                 \n",
       "700001  21072482  Validation of the Japanese version of the qual...   \n",
       "700002  21072677  Trends in hepatitis B virus infection among bl...   \n",
       "700003  21073138  Microscope observations of ART excavated cavit...   \n",
       "700004  21073322  Transplantation: Pretransplantation serum phos...   \n",
       "700005  21073443           Woodward's Words: Elegant and Commanding   \n",
       "\n",
       "                                                 abstract  year  \\\n",
       "index                                                             \n",
       "700001  PURPOSE ::: The quality of recovery score QoR-...  2011   \n",
       "700002  The objective of this study was to determine t...  2007   \n",
       "700003  This in vitro light and scanning electron micr...  2002   \n",
       "700004  Transplantation: Pretransplantation serum phos...  2011   \n",
       "700005  Robert Burns Woodward's publications exhibit a...  2016   \n",
       "\n",
       "                              doi  \\\n",
       "index                               \n",
       "700001  10.1007/s00540-011-1151-2   \n",
       "700002                        NaN   \n",
       "700003                        NaN   \n",
       "700004    10.1038/nrneph.2011.167   \n",
       "700005     10.1002/anie.201600811   \n",
       "\n",
       "                                                    venue  \\\n",
       "index                                                       \n",
       "700001                              Journal of Anesthesia   \n",
       "700002  The Southeast Asian journal of tropical medici...   \n",
       "700003  SADJ : journal of the South African Dental Ass...   \n",
       "700004                          Nature Reviews Nephrology   \n",
       "700005                                  Angewandte Chemie   \n",
       "\n",
       "                                                  journal  mag_field_of_study  \\\n",
       "index                                                                           \n",
       "700001                              Journal of Anesthesia                 NaN   \n",
       "700002  The Southeast Asian journal of tropical medici...                 NaN   \n",
       "700003  SADJ : journal of the South African Dental Ass...                 NaN   \n",
       "700004                          Nature Reviews Nephrology                 NaN   \n",
       "700005                                  Angewandte Chemie                 NaN   \n",
       "\n",
       "                                places countries  ...  HMD  IOT  MSR  PYF  \\\n",
       "index                                             ...                       \n",
       "700001                         [Japan]   ['JPN']  ...    0    0    0    0   \n",
       "700002  [Malaysia, Kelantan, Malaysia]   ['MYS']  ...    0    0    0    0   \n",
       "700003                              []    ['nf']  ...    0    0    0    0   \n",
       "700004                              []    ['nf']  ...    0    0    0    0   \n",
       "700005                              []    ['nf']  ...    0    0    0    0   \n",
       "\n",
       "        SPM  SXM  UMI  WSM                       tokens  len_token  \n",
       "index                                                               \n",
       "700001    0    0    0    0  [input_ids, attention_mask]        496  \n",
       "700002    0    0    0    0  [input_ids, attention_mask]        198  \n",
       "700003    0    0    0    0  [input_ids, attention_mask]        427  \n",
       "700004    0    0    0    0  [input_ids, attention_mask]         26  \n",
       "700005    0    0    0    0  [input_ids, attention_mask]         64  \n",
       "\n",
       "[5 rows x 263 columns]"
      ]
     },
     "execution_count": 209,
     "metadata": {},
     "output_type": "execute_result"
    }
   ],
   "source": [
    "df_5.head(5)"
   ]
  },
  {
   "cell_type": "code",
   "execution_count": 210,
   "id": "fac72499",
   "metadata": {},
   "outputs": [],
   "source": [
    "df_51=df_5[df_5['len_token'] > 512]"
   ]
  },
  {
   "cell_type": "code",
   "execution_count": null,
   "id": "4a86c42d",
   "metadata": {},
   "outputs": [],
   "source": [
    "len(df_51)"
   ]
  },
  {
   "cell_type": "code",
   "execution_count": 212,
   "id": "63346610",
   "metadata": {},
   "outputs": [
    {
     "data": {
      "text/plain": [
       "459027"
      ]
     },
     "execution_count": 212,
     "metadata": {},
     "output_type": "execute_result"
    }
   ],
   "source": [
    "len(df_save)"
   ]
  },
  {
   "cell_type": "code",
   "execution_count": 215,
   "id": "97b8f407",
   "metadata": {},
   "outputs": [],
   "source": [
    "df_long = pd.concat([df_long,df_51],ignore_index=True)"
   ]
  },
  {
   "cell_type": "code",
   "execution_count": 231,
   "id": "5c0f8ab3",
   "metadata": {},
   "outputs": [
    {
     "data": {
      "text/plain": [
       "84586"
      ]
     },
     "execution_count": 231,
     "metadata": {},
     "output_type": "execute_result"
    }
   ],
   "source": [
    "len(df_long)"
   ]
  },
  {
   "cell_type": "code",
   "execution_count": 217,
   "id": "604b8442",
   "metadata": {},
   "outputs": [],
   "source": [
    "df_long.to_csv('long_half.csv')"
   ]
  },
  {
   "cell_type": "code",
   "execution_count": 220,
   "id": "fc4c7220",
   "metadata": {},
   "outputs": [],
   "source": [
    "df_52 = df_5[df_5['len_token']<512]"
   ]
  },
  {
   "cell_type": "code",
   "execution_count": null,
   "id": "8f3a04fd",
   "metadata": {},
   "outputs": [
    {
     "data": {
      "text/plain": [
       "310535"
      ]
     },
     "execution_count": 237,
     "metadata": {},
     "output_type": "execute_result"
    }
   ],
   "source": [
    "len(df_52)"
   ]
  },
  {
   "cell_type": "code",
   "execution_count": null,
   "id": "d11df343",
   "metadata": {},
   "outputs": [],
   "source": [
    "df_52['label_p']= df_52.abstract.apply(my_pipeline)"
   ]
  },
  {
   "cell_type": "code",
   "execution_count": null,
   "id": "b438e6e7",
   "metadata": {},
   "outputs": [],
   "source": [
    "df_52['label_p'].isna().value_counts()"
   ]
  },
  {
   "cell_type": "code",
   "execution_count": null,
   "id": "2ce7c7d0",
   "metadata": {},
   "outputs": [],
   "source": [
    "data_use = []\n",
    "for index, row in df_52.iterrows():\n",
    "    if row[263][0]['label'] == 'LABEL_1':\n",
    "        k = 'Yes'\n",
    "        data_use.append(k)\n",
    "    else:\n",
    "        k = 'No'\n",
    "        data_use.append(k)"
   ]
  },
  {
   "cell_type": "code",
   "execution_count": null,
   "id": "ace52355",
   "metadata": {},
   "outputs": [],
   "source": [
    "df_52.insert(263, 'data_use', data_use, allow_duplicates=False)"
   ]
  },
  {
   "cell_type": "code",
   "execution_count": null,
   "id": "6962061f",
   "metadata": {},
   "outputs": [],
   "source": [
    "df_52['data_use'].value_counts()"
   ]
  },
  {
   "cell_type": "code",
   "execution_count": null,
   "id": "8ff86977",
   "metadata": {},
   "outputs": [],
   "source": [
    "df_52.to_csv('result_52.csv')"
   ]
  },
  {
   "cell_type": "code",
   "execution_count": 254,
   "id": "1bde5022",
   "metadata": {},
   "outputs": [
    {
     "data": {
      "text/plain": [
       "310535"
      ]
     },
     "execution_count": 254,
     "metadata": {},
     "output_type": "execute_result"
    }
   ],
   "source": [
    "len(df_52)"
   ]
  },
  {
   "cell_type": "code",
   "execution_count": null,
   "id": "6c9f3273",
   "metadata": {},
   "outputs": [],
   "source": [
    "paper_rank = df_save['countries'].value_counts().rename_axis('countries_code').reset_index(name='paper_count')"
   ]
  },
  {
   "cell_type": "code",
   "execution_count": null,
   "id": "4ad84880",
   "metadata": {},
   "outputs": [
    {
     "name": "stdout",
     "output_type": "stream",
     "text": [
      "                                         countries_code  paper_count\n",
      "0                                                ['nf']       829628\n",
      "1                                               ['USA']         9476\n",
      "2                                               ['CHN']         8764\n",
      "3                                               ['IND']         5224\n",
      "4                                               ['AUS']         3950\n",
      "...                                                 ...          ...\n",
      "7325                       ['AUS', 'CAN', 'ZAF', 'USA']            1\n",
      "7326                ['HUN', 'ESP', 'SWE', 'GBR', 'USA']            1\n",
      "7327  ['AUS', 'BRA', 'CAN', 'DNK', 'FIN', 'DEU', 'LT...            1\n",
      "7328                              ['IND', 'KEN', 'UGA']            1\n",
      "7329                              ['IRL', 'POL', 'ESP']            1\n",
      "\n",
      "[7330 rows x 2 columns]\n"
     ]
    }
   ],
   "source": [
    "print(paper_rank)"
   ]
  },
  {
   "cell_type": "code",
   "execution_count": 276,
   "id": "297eabbe",
   "metadata": {},
   "outputs": [],
   "source": [
    "C_count = df_save.loc[:,'ABW':'WSM'].sum().to_frame(name = \"papers\").sort_values(by = \"papers\", ascending = False)"
   ]
  },
  {
   "cell_type": "code",
   "execution_count": 292,
   "id": "3918f9b3",
   "metadata": {},
   "outputs": [
    {
     "data": {
      "text/plain": [
       "953162"
      ]
     },
     "execution_count": 292,
     "metadata": {},
     "output_type": "execute_result"
    }
   ],
   "source": [
    "len(df_save)"
   ]
  },
  {
   "cell_type": "code",
   "execution_count": 279,
   "id": "f420b6ad",
   "metadata": {},
   "outputs": [
    {
     "data": {
      "text/plain": [
       "953162"
      ]
     },
     "execution_count": 279,
     "metadata": {},
     "output_type": "execute_result"
    }
   ],
   "source": [
    "len(C_c)"
   ]
  },
  {
   "cell_type": "code",
   "execution_count": 277,
   "id": "81e64485",
   "metadata": {},
   "outputs": [],
   "source": [
    "C_y = df_save.loc[:,'year']"
   ]
  },
  {
   "cell_type": "code",
   "execution_count": 278,
   "id": "bab76b30",
   "metadata": {},
   "outputs": [],
   "source": [
    "C_c = df_save.loc[:,'ABW':'WSM']"
   ]
  },
  {
   "cell_type": "code",
   "execution_count": 280,
   "id": "e2e107a2",
   "metadata": {},
   "outputs": [],
   "source": [
    "C = pd.concat([C_y,C_c],axis = 1)"
   ]
  },
  {
   "cell_type": "code",
   "execution_count": 281,
   "id": "382bebf4",
   "metadata": {},
   "outputs": [
    {
     "name": "stdout",
     "output_type": "stream",
     "text": [
      "     papers\n",
      "nf   829628\n",
      "USA   13576\n",
      "CHN   12415\n",
      "IND    7226\n",
      "AUS    6033\n",
      "..      ...\n",
      "HMD       0\n",
      "IOT       0\n",
      "SPM       0\n",
      "SXM       0\n",
      "UMI       0\n",
      "\n",
      "[251 rows x 1 columns]\n"
     ]
    }
   ],
   "source": [
    "print(C_count)"
   ]
  },
  {
   "cell_type": "code",
   "execution_count": 291,
   "id": "ad9ca973",
   "metadata": {},
   "outputs": [],
   "source": [
    "data_yes = df_save[df_save['data_use']=='Yes']"
   ]
  },
  {
   "cell_type": "code",
   "execution_count": 293,
   "id": "f27afc48",
   "metadata": {},
   "outputs": [
    {
     "data": {
      "text/plain": [
       "739982"
      ]
     },
     "execution_count": 293,
     "metadata": {},
     "output_type": "execute_result"
    }
   ],
   "source": [
    "len(data_yes)"
   ]
  },
  {
   "cell_type": "code",
   "execution_count": 294,
   "id": "c264c909",
   "metadata": {},
   "outputs": [],
   "source": [
    "DataYes_count = data_yes.loc[:,'ABW':'WSM'].sum().to_frame(name = \"Data Yes papers\").sort_values(by = \"Data Yes papers\", ascending = False)"
   ]
  },
  {
   "cell_type": "code",
   "execution_count": 295,
   "id": "c3658521",
   "metadata": {},
   "outputs": [
    {
     "name": "stdout",
     "output_type": "stream",
     "text": [
      "     Data Yes papers\n",
      "nf            642763\n",
      "CHN             9886\n",
      "USA             9217\n",
      "IND             5471\n",
      "AUS             4568\n",
      "..               ...\n",
      "ATF                0\n",
      "SMR                0\n",
      "SPM                0\n",
      "SXM                0\n",
      "UMI                0\n",
      "\n",
      "[251 rows x 1 columns]\n"
     ]
    }
   ],
   "source": [
    "print(DataYes_count)"
   ]
  },
  {
   "cell_type": "code",
   "execution_count": 298,
   "id": "1988db6d",
   "metadata": {},
   "outputs": [],
   "source": [
    "result_update = pd.concat([C_count,DataYes_count], axis=1)"
   ]
  },
  {
   "cell_type": "code",
   "execution_count": 266,
   "id": "15802f94",
   "metadata": {},
   "outputs": [],
   "source": [
    "DataYes_count.to_csv('dataYes.csv')"
   ]
  },
  {
   "cell_type": "code",
   "execution_count": 267,
   "id": "182d41ab",
   "metadata": {},
   "outputs": [],
   "source": [
    "C_count.to_csv('CountryCount.csv')"
   ]
  },
  {
   "cell_type": "code",
   "execution_count": 299,
   "id": "bd6b2d2f",
   "metadata": {},
   "outputs": [],
   "source": [
    "result_update.to_csv('result_update.csv')"
   ]
  },
  {
   "cell_type": "code",
   "execution_count": 255,
   "id": "70d09963",
   "metadata": {},
   "outputs": [],
   "source": [
    "df_save = pd.concat([df_save,df_52],ignore_index=True)"
   ]
  },
  {
   "cell_type": "code",
   "execution_count": 1,
   "id": "fd8b5916",
   "metadata": {},
   "outputs": [],
   "source": [
    "import pandas as pd"
   ]
  },
  {
   "cell_type": "code",
   "execution_count": 3,
   "id": "8d2e8fd7",
   "metadata": {},
   "outputs": [],
   "source": [
    "long_df = pd.read_csv('long_half.csv')"
   ]
  },
  {
   "cell_type": "code",
   "execution_count": 4,
   "id": "e171d56d",
   "metadata": {},
   "outputs": [],
   "source": [
    "import transformers"
   ]
  },
  {
   "cell_type": "code",
   "execution_count": 5,
   "id": "59b7b8eb",
   "metadata": {},
   "outputs": [],
   "source": [
    "from transformers import BertForSequenceClassification, BertTokenizer\n",
    "import torch"
   ]
  },
  {
   "cell_type": "code",
   "execution_count": 6,
   "id": "085c34d6",
   "metadata": {},
   "outputs": [
    {
     "data": {
      "application/vnd.jupyter.widget-view+json": {
       "model_id": "8fb3b10b374f4959a7d98402ed965bee",
       "version_major": 2,
       "version_minor": 0
      },
      "text/plain": [
       "Downloading:   0%|          | 0.00/29.0 [00:00<?, ?B/s]"
      ]
     },
     "metadata": {},
     "output_type": "display_data"
    },
    {
     "data": {
      "application/vnd.jupyter.widget-view+json": {
       "model_id": "6bd8fcf52b014d5281481aac6d582f7b",
       "version_major": 2,
       "version_minor": 0
      },
      "text/plain": [
       "Downloading:   0%|          | 0.00/411 [00:00<?, ?B/s]"
      ]
     },
     "metadata": {},
     "output_type": "display_data"
    },
    {
     "data": {
      "application/vnd.jupyter.widget-view+json": {
       "model_id": "06151e24c3d04a4da0cb47d144ad26be",
       "version_major": 2,
       "version_minor": 0
      },
      "text/plain": [
       "Downloading:   0%|          | 0.00/208k [00:00<?, ?B/s]"
      ]
     },
     "metadata": {},
     "output_type": "display_data"
    },
    {
     "data": {
      "application/vnd.jupyter.widget-view+json": {
       "model_id": "5968cf3737cf4f95aafbad3f80df5cad",
       "version_major": 2,
       "version_minor": 0
      },
      "text/plain": [
       "Downloading:   0%|          | 0.00/426k [00:00<?, ?B/s]"
      ]
     },
     "metadata": {},
     "output_type": "display_data"
    },
    {
     "data": {
      "application/vnd.jupyter.widget-view+json": {
       "model_id": "d2242b123c1f4abf8dc100ea664570d6",
       "version_major": 2,
       "version_minor": 0
      },
      "text/plain": [
       "Downloading:   0%|          | 0.00/251M [00:00<?, ?B/s]"
      ]
     },
     "metadata": {},
     "output_type": "display_data"
    },
    {
     "name": "stderr",
     "output_type": "stream",
     "text": [
      "Some weights of the model checkpoint at distilbert-base-cased were not used when initializing DistilBertForSequenceClassification: ['vocab_projector.weight', 'vocab_layer_norm.weight', 'vocab_layer_norm.bias', 'vocab_projector.bias', 'vocab_transform.weight', 'vocab_transform.bias']\n",
      "- This IS expected if you are initializing DistilBertForSequenceClassification from the checkpoint of a model trained on another task or with another architecture (e.g. initializing a BertForSequenceClassification model from a BertForPreTraining model).\n",
      "- This IS NOT expected if you are initializing DistilBertForSequenceClassification from the checkpoint of a model that you expect to be exactly identical (initializing a BertForSequenceClassification model from a BertForSequenceClassification model).\n",
      "Some weights of DistilBertForSequenceClassification were not initialized from the model checkpoint at distilbert-base-cased and are newly initialized: ['pre_classifier.bias', 'classifier.bias', 'pre_classifier.weight', 'classifier.weight']\n",
      "You should probably TRAIN this model on a down-stream task to be able to use it for predictions and inference.\n"
     ]
    }
   ],
   "source": [
    "from transformers import AutoTokenizer\n",
    "tokenizer = AutoTokenizer.from_pretrained(\"distilbert-base-cased\")\n",
    "from transformers import AutoModelForSequenceClassification\n",
    "checkpoint = \"distilbert-base-cased\"\n",
    "model = AutoModelForSequenceClassification.from_pretrained(checkpoint, num_labels=2)\n",
    "#tokenizer = AutoTokenizer.from_pretrained(\"CustomModels/dataUse\")\n",
    "#model = AutoModelForSequenceClassification.from_pretrained(\"CustomModels/dataUse\")"
   ]
  },
  {
   "cell_type": "code",
   "execution_count": 65,
   "id": "6c37c4ad",
   "metadata": {},
   "outputs": [],
   "source": [
    "txt = long_df['abstract'][99]"
   ]
  },
  {
   "cell_type": "code",
   "execution_count": 66,
   "id": "0b3877d3",
   "metadata": {},
   "outputs": [
    {
     "name": "stdout",
     "output_type": "stream",
     "text": [
      "Introduction ::: Evidence for linkage and association of obesity-related quantitative traits to chromosome 1q43 has been reported in the Quebec Family Study (QFS) and in populations of Caribbean Hispanic ancestries yet no specific candidate locus has been replicated to date. ::: Methods ::: Using a set of 1,902 single nucleotide polymorphisms (SNPs) genotyped in 525 African American (AA) and 391 European American (EA) women enrolled in the NIEHS uterine fibroid study (NIEHS-UFS), we generated a fine association map for the body mass index (BMI) across a 2.3 megabase-long interval delimited by RGS7 (regulator of G-protein signaling 7) and PLD5 (Phospholipase D, member 5). Multivariable-adjusted linear regression models were fitted to the data to evaluate the association in race-stratified analyses and meta-analysis. ::: Results ::: The strongest associations were observed in a recessive genetic model and peaked in the 3’ end of RGS7 at intronic rs261802 variant in the AA group (p = 1.0 x 10−4) and in meta-analysis of AA and EA samples (p = 9.0 x 10−5). In the EA group, moderate associations peaked at rs6429264 (p = 2.0 x 10−3) in the 2 Kb upstream sequence of RGS7. In the reference populations for the European ancestry in the 1,000 genomes project, rs6429264 occurs in strong linkage disequilibrium (D’ = 0.94) with rs1341467, the strongest candidate SNP for total body fat in QFS that failed genotyping in the present study. Additionally we report moderate associations at the 3’ end of PLD5 in meta-analysis (3.2 x 10−4 ≤ p ≤ 5.8 x 10−4). ::: Conclusion ::: We report replication data suggesting that RGS7, a gene abundantly expressed in the brain, might be a putative body fat QTL on human chromosome 1q43. Future genetic and functional studies are required to substantiate our observations and to potentially link them to the neurobehavioral phenotypes associated with the RGS7 region.\n"
     ]
    }
   ],
   "source": [
    "print(txt)"
   ]
  },
  {
   "cell_type": "code",
   "execution_count": 61,
   "id": "8c5d98f1",
   "metadata": {},
   "outputs": [],
   "source": [
    "def chunkslong(txt):  \n",
    "    \n",
    "    tokens = tokenizer.encode_plus(txt, add_special_tokens=False,\n",
    "                               return_tensors='pt')\n",
    "\n",
    "    #print(len(tokens['input_ids'][0]))\n",
    "    #tokens\n",
    "    a = torch.arange(10)\n",
    "    #a\n",
    "    torch.split(a, 4)\n",
    "    input_id_chunks = tokens['input_ids'][0].split(510)\n",
    "    mask_chunks = tokens['attention_mask'][0].split(510)\n",
    "    a = torch.cat((torch.Tensor([101]).float(), a.float(), torch.Tensor([102]).float()),0)\n",
    "    #print(a)\n",
    "    padding_len = 20 - a.shape[0]\n",
    "    #padding_len\n",
    "    if padding_len > 0:\n",
    "        a = torch.cat([a, torch.Tensor([0] * padding_len).float()])\n",
    "    # define target chunksize\n",
    "    # define target chunksize\n",
    "    chunksize = 512\n",
    "\n",
    "    # split into chunks of 510 tokens, we also convert to list (default is tuple which is immutable)\n",
    "    input_id_chunks = list(tokens['input_ids'][0].split(chunksize - 2))\n",
    "    mask_chunks = list(tokens['attention_mask'][0].split(chunksize - 2))\n",
    "\n",
    "    # loop through each chunk\n",
    "    for i in range(len(input_id_chunks)):\n",
    "        # add CLS and SEP tokens to input IDs\n",
    "        input_id_chunks[i] = torch.cat([\n",
    "            torch.tensor([101]).float(), input_id_chunks[i].float(), torch.tensor([102]).float()\n",
    "        ])\n",
    "        # add attention tokens to attention mask\n",
    "        mask_chunks[i] = torch.cat([\n",
    "            torch.tensor([1]).float(), mask_chunks[i].float(), torch.tensor([1]).float()\n",
    "        ])\n",
    "        # get required padding length\n",
    "        pad_len = chunksize - input_id_chunks[i].shape[0]\n",
    "        # check if tensor length satisfies required chunk size\n",
    "        if pad_len > 0:\n",
    "            # if padding length is more than 0, we must add padding\n",
    "            input_id_chunks[i] = torch.cat([\n",
    "                input_id_chunks[i].float(), torch.Tensor([0] * pad_len).float()\n",
    "            ])\n",
    "            mask_chunks[i] = torch.cat([\n",
    "                mask_chunks[i].float(), torch.Tensor([0] * pad_len).float()\n",
    "            ])\n",
    "\n",
    "    # check length of each tensor\n",
    "    for chunk in input_id_chunks:\n",
    "        (len(chunk))\n",
    "    # print final chunk so we can see 101, 102, and 0 (PAD) tokens are all correctly placed\n",
    "   ##chunk\n",
    "    input_ids = torch.stack(input_id_chunks)\n",
    "    attention_mask = torch.stack(mask_chunks)\n",
    "\n",
    "    input_dict = {\n",
    "        'input_ids': input_ids.long(),\n",
    "        'attention_mask': attention_mask.int()\n",
    "    }\n",
    "    #input_dict\n",
    "    outputs = model(**input_dict)\n",
    "    probs = torch.nn.functional.softmax(outputs[0], dim=-1)\n",
    "    probs = probs.mean(dim=0)\n",
    "    #probs\n",
    "    probs = torch.nn.functional.softmax(outputs[0], dim=-1)\n",
    "    #probs\n",
    "    probs = probs.mean(dim=0)\n",
    "    #probs\n",
    "    winner = torch.argmax(probs).item()\n",
    "    return ['LABEL_0','LABEL_1'][winner]"
   ]
  },
  {
   "cell_type": "code",
   "execution_count": 62,
   "id": "85e9724d",
   "metadata": {},
   "outputs": [
    {
     "data": {
      "text/plain": [
       "'LABEL_0'"
      ]
     },
     "execution_count": 62,
     "metadata": {},
     "output_type": "execute_result"
    }
   ],
   "source": [
    "chunkslong(txt)"
   ]
  },
  {
   "cell_type": "code",
   "execution_count": 63,
   "id": "c73cda5f",
   "metadata": {},
   "outputs": [
    {
     "data": {
      "text/plain": [
       "'Indoline carbamates, AN680 and AN917 decrease cytokines, TNF-α and IL-6 in peritoneal macrophages activated by lipopolysaccharide (LPS) and in mouse tissues after LPS injection. They prevent nuclear translocation of nuclear factor κB (NF-κB) and activator protein 1. Only AN917 inhibits cholinesterase (ChE) at relevant concentrations. ChE inhibitors decrease NF-κB by activating α7 nicotinic acetylcholine receptors (α7nAChR). The current study compared the effect of rivastigmine, a ChE inhibitor, AN680 and AN917 on ulcerative colitis induced in mice by ingestion of dextran sodium sulfate (4.5%) solution. Rivastigmine (1 mg/kg), AN680 (2.5-10 mg/kg) and AN917 (2-5 mg/kg) were injected subcutaneously once daily for 8 days. Disease severity was assessed by disease activity index (DAI), colonoscopy, colon length and body weight loss, colonic levels of TNF-α, IL-6, IL-1β and myeloid peroxidase (MPO) activity. AN680 (5 mg/kg) reduced DAI, colon shrinkage, weight loss, histopathological signs of colon damage, MPO activity, TNF-α, IL-1β and IL-6 levels without inhibiting ChE. AN917 (5 mg/kg) and rivastigmine (1 mg/kg) inhibited ChE in plasma and colon by 65%, reduced DAI, MPO activity and IL-6, but not TNF-α or IL-1β. AN917 did not prevent weight loss or colon shrinkage. Mecamylamine abolished the reduction of DAI, MPO activity and IL-6 by AN917 and rivastigmine, indicating they were mediated by α7nAChR. ::: ::: ::: CONCLUSIONS ::: AN680 is very effective in preventing DSS-induced UC in mice and may therefore have potential therapeutic application in humans. Addition of ChE inhibition and indirect activation of α7nAChR lessens the efficacy of AN917 in this model.'"
      ]
     },
     "execution_count": 63,
     "metadata": {},
     "output_type": "execute_result"
    }
   ],
   "source": [
    "long_df.abstract[825]"
   ]
  },
  {
   "cell_type": "code",
   "execution_count": 64,
   "id": "11af3887",
   "metadata": {},
   "outputs": [
    {
     "data": {
      "text/plain": [
       "LABEL_0    998\n",
       "Name: abstract, dtype: int64"
      ]
     },
     "execution_count": 64,
     "metadata": {},
     "output_type": "execute_result"
    }
   ],
   "source": [
    "long_df.abstract.iloc[2:1000].apply(chunkslong).value_counts()"
   ]
  },
  {
   "cell_type": "code",
   "execution_count": null,
   "id": "a659b615",
   "metadata": {},
   "outputs": [],
   "source": [
    "long_df['label_p']= long_df.abstract.apply(chunkslong)"
   ]
  },
  {
   "cell_type": "code",
   "execution_count": 26,
   "id": "3b871b7d",
   "metadata": {},
   "outputs": [
    {
     "data": {
      "text/plain": [
       "LABEL_1    84586\n",
       "Name: label_p, dtype: int64"
      ]
     },
     "execution_count": 26,
     "metadata": {},
     "output_type": "execute_result"
    }
   ],
   "source": [
    "long_df['label_p'].value_counts()"
   ]
  },
  {
   "cell_type": "code",
   "execution_count": 36,
   "id": "4e3f831f",
   "metadata": {},
   "outputs": [],
   "source": [
    "long_df = long_df.drop(['Unnamed: 0'],axis=1)"
   ]
  },
  {
   "cell_type": "code",
   "execution_count": 40,
   "id": "8544d408",
   "metadata": {},
   "outputs": [
    {
     "data": {
      "text/plain": [
       "Index(['paper_id', 'title', 'abstract', 'year', 'doi', 'venue', 'journal',\n",
       "       'mag_field_of_study', 'places', 'countries',\n",
       "       ...\n",
       "       'IOT', 'MSR', 'PYF', 'SPM', 'SXM', 'UMI', 'WSM', 'tokens', 'len_token',\n",
       "       'label_p'],\n",
       "      dtype='object', length=264)"
      ]
     },
     "execution_count": 40,
     "metadata": {},
     "output_type": "execute_result"
    }
   ],
   "source": [
    "long_df.columns"
   ]
  },
  {
   "cell_type": "code",
   "execution_count": 42,
   "id": "5ffd4552",
   "metadata": {},
   "outputs": [],
   "source": [
    "data_use = []\n",
    "for index, row in long_df.iterrows():\n",
    "    if row[263] == 'LABEL_1':\n",
    "        k = 'Yes'\n",
    "        data_use.append(k)\n",
    "    else:\n",
    "        k = 'No'\n",
    "        data_use.append(k)"
   ]
  },
  {
   "cell_type": "code",
   "execution_count": 43,
   "id": "3a5714ea",
   "metadata": {},
   "outputs": [],
   "source": [
    "long_df.insert(263, 'data_use', data_use, allow_duplicates=False)"
   ]
  },
  {
   "cell_type": "code",
   "execution_count": 44,
   "id": "3c5a0e9d",
   "metadata": {},
   "outputs": [
    {
     "data": {
      "text/html": [
       "<div>\n",
       "<style scoped>\n",
       "    .dataframe tbody tr th:only-of-type {\n",
       "        vertical-align: middle;\n",
       "    }\n",
       "\n",
       "    .dataframe tbody tr th {\n",
       "        vertical-align: top;\n",
       "    }\n",
       "\n",
       "    .dataframe thead th {\n",
       "        text-align: right;\n",
       "    }\n",
       "</style>\n",
       "<table border=\"1\" class=\"dataframe\">\n",
       "  <thead>\n",
       "    <tr style=\"text-align: right;\">\n",
       "      <th></th>\n",
       "      <th>paper_id</th>\n",
       "      <th>title</th>\n",
       "      <th>abstract</th>\n",
       "      <th>year</th>\n",
       "      <th>doi</th>\n",
       "      <th>venue</th>\n",
       "      <th>journal</th>\n",
       "      <th>mag_field_of_study</th>\n",
       "      <th>places</th>\n",
       "      <th>countries</th>\n",
       "      <th>...</th>\n",
       "      <th>MSR</th>\n",
       "      <th>PYF</th>\n",
       "      <th>SPM</th>\n",
       "      <th>SXM</th>\n",
       "      <th>UMI</th>\n",
       "      <th>WSM</th>\n",
       "      <th>tokens</th>\n",
       "      <th>len_token</th>\n",
       "      <th>data_use</th>\n",
       "      <th>label_p</th>\n",
       "    </tr>\n",
       "  </thead>\n",
       "  <tbody>\n",
       "    <tr>\n",
       "      <th>0</th>\n",
       "      <td>18985891</td>\n",
       "      <td>Global Morbidity and Mortality of Leptospirosi...</td>\n",
       "      <td>Background ::: ::: Leptospirosis, a spirochaet...</td>\n",
       "      <td>2015</td>\n",
       "      <td>10.1371/journal.pntd.0003898</td>\n",
       "      <td>PLoS neglected tropical diseases</td>\n",
       "      <td>PLoS neglected tropical diseases</td>\n",
       "      <td>NaN</td>\n",
       "      <td>[Oceania]</td>\n",
       "      <td>['nf']</td>\n",
       "      <td>...</td>\n",
       "      <td>0</td>\n",
       "      <td>0</td>\n",
       "      <td>0</td>\n",
       "      <td>0</td>\n",
       "      <td>0</td>\n",
       "      <td>0</td>\n",
       "      <td>{'input_ids': [101, 24570, 131, 131, 131, 131,...</td>\n",
       "      <td>540</td>\n",
       "      <td>Yes</td>\n",
       "      <td>LABEL_1</td>\n",
       "    </tr>\n",
       "    <tr>\n",
       "      <th>1</th>\n",
       "      <td>18988046</td>\n",
       "      <td>Reduced adult endothelial cell EphB4 function ...</td>\n",
       "      <td>Reduced EphB4 expression is observed during ve...</td>\n",
       "      <td>2013</td>\n",
       "      <td>10.1152/ajpcell.00333.2012</td>\n",
       "      <td>American journal of physiology. Cell physiology</td>\n",
       "      <td>American journal of physiology. Cell physiology</td>\n",
       "      <td>NaN</td>\n",
       "      <td>[]</td>\n",
       "      <td>['nf']</td>\n",
       "      <td>...</td>\n",
       "      <td>0</td>\n",
       "      <td>0</td>\n",
       "      <td>0</td>\n",
       "      <td>0</td>\n",
       "      <td>0</td>\n",
       "      <td>0</td>\n",
       "      <td>{'input_ids': [101, 2156, 15776, 1181, 142, 78...</td>\n",
       "      <td>530</td>\n",
       "      <td>Yes</td>\n",
       "      <td>LABEL_1</td>\n",
       "    </tr>\n",
       "    <tr>\n",
       "      <th>2</th>\n",
       "      <td>17781384</td>\n",
       "      <td>Search for genes responsible for the remarkabl...</td>\n",
       "      <td>BackgroundZygosaccharomyces bailii is consider...</td>\n",
       "      <td>2015</td>\n",
       "      <td>10.1186/s12864-015-2278-6</td>\n",
       "      <td>BMC Genomics</td>\n",
       "      <td>BMC Genomics</td>\n",
       "      <td>NaN</td>\n",
       "      <td>[ISA1307 ]</td>\n",
       "      <td>['nf']</td>\n",
       "      <td>...</td>\n",
       "      <td>0</td>\n",
       "      <td>0</td>\n",
       "      <td>0</td>\n",
       "      <td>0</td>\n",
       "      <td>0</td>\n",
       "      <td>0</td>\n",
       "      <td>{'input_ids': [101, 24570, 5301, 1183, 12443, ...</td>\n",
       "      <td>590</td>\n",
       "      <td>Yes</td>\n",
       "      <td>LABEL_1</td>\n",
       "    </tr>\n",
       "    <tr>\n",
       "      <th>3</th>\n",
       "      <td>17783439</td>\n",
       "      <td>Single- and double-stranded viral RNA generate...</td>\n",
       "      <td>There has been growing interest in the role of...</td>\n",
       "      <td>2014</td>\n",
       "      <td>10.1093/molehr/gau028</td>\n",
       "      <td>Molecular human reproduction</td>\n",
       "      <td>Molecular human reproduction</td>\n",
       "      <td>NaN</td>\n",
       "      <td>[MIP-1α, MyD88 , MyD88 , MyD88 , MyD88 , MyD88]</td>\n",
       "      <td>['nf']</td>\n",
       "      <td>...</td>\n",
       "      <td>0</td>\n",
       "      <td>0</td>\n",
       "      <td>0</td>\n",
       "      <td>0</td>\n",
       "      <td>0</td>\n",
       "      <td>0</td>\n",
       "      <td>{'input_ids': [101, 1247, 1144, 1151, 2898, 21...</td>\n",
       "      <td>559</td>\n",
       "      <td>Yes</td>\n",
       "      <td>LABEL_1</td>\n",
       "    </tr>\n",
       "    <tr>\n",
       "      <th>4</th>\n",
       "      <td>17784298</td>\n",
       "      <td>Age-Related Macular Degeneration Is Associated...</td>\n",
       "      <td>OBJECTIVE ::: To investigate whether age-relat...</td>\n",
       "      <td>2007</td>\n",
       "      <td>10.1016/j.ophtha.2006.07.045</td>\n",
       "      <td>Ophthalmology</td>\n",
       "      <td>Ophthalmology</td>\n",
       "      <td>NaN</td>\n",
       "      <td>[]</td>\n",
       "      <td>['nf']</td>\n",
       "      <td>...</td>\n",
       "      <td>0</td>\n",
       "      <td>0</td>\n",
       "      <td>0</td>\n",
       "      <td>0</td>\n",
       "      <td>0</td>\n",
       "      <td>0</td>\n",
       "      <td>{'input_ids': [101, 152, 2064, 4538, 8231, 216...</td>\n",
       "      <td>772</td>\n",
       "      <td>Yes</td>\n",
       "      <td>LABEL_1</td>\n",
       "    </tr>\n",
       "  </tbody>\n",
       "</table>\n",
       "<p>5 rows × 265 columns</p>\n",
       "</div>"
      ],
      "text/plain": [
       "   paper_id                                              title  \\\n",
       "0  18985891  Global Morbidity and Mortality of Leptospirosi...   \n",
       "1  18988046  Reduced adult endothelial cell EphB4 function ...   \n",
       "2  17781384  Search for genes responsible for the remarkabl...   \n",
       "3  17783439  Single- and double-stranded viral RNA generate...   \n",
       "4  17784298  Age-Related Macular Degeneration Is Associated...   \n",
       "\n",
       "                                            abstract  year  \\\n",
       "0  Background ::: ::: Leptospirosis, a spirochaet...  2015   \n",
       "1  Reduced EphB4 expression is observed during ve...  2013   \n",
       "2  BackgroundZygosaccharomyces bailii is consider...  2015   \n",
       "3  There has been growing interest in the role of...  2014   \n",
       "4  OBJECTIVE ::: To investigate whether age-relat...  2007   \n",
       "\n",
       "                            doi  \\\n",
       "0  10.1371/journal.pntd.0003898   \n",
       "1    10.1152/ajpcell.00333.2012   \n",
       "2     10.1186/s12864-015-2278-6   \n",
       "3         10.1093/molehr/gau028   \n",
       "4  10.1016/j.ophtha.2006.07.045   \n",
       "\n",
       "                                             venue  \\\n",
       "0                 PLoS neglected tropical diseases   \n",
       "1  American journal of physiology. Cell physiology   \n",
       "2                                     BMC Genomics   \n",
       "3                     Molecular human reproduction   \n",
       "4                                    Ophthalmology   \n",
       "\n",
       "                                           journal  mag_field_of_study  \\\n",
       "0                 PLoS neglected tropical diseases                 NaN   \n",
       "1  American journal of physiology. Cell physiology                 NaN   \n",
       "2                                     BMC Genomics                 NaN   \n",
       "3                     Molecular human reproduction                 NaN   \n",
       "4                                    Ophthalmology                 NaN   \n",
       "\n",
       "                                            places countries  ...  MSR  PYF  \\\n",
       "0                                        [Oceania]    ['nf']  ...    0    0   \n",
       "1                                               []    ['nf']  ...    0    0   \n",
       "2                                       [ISA1307 ]    ['nf']  ...    0    0   \n",
       "3  [MIP-1α, MyD88 , MyD88 , MyD88 , MyD88 , MyD88]    ['nf']  ...    0    0   \n",
       "4                                               []    ['nf']  ...    0    0   \n",
       "\n",
       "   SPM  SXM  UMI  WSM                                             tokens  \\\n",
       "0    0    0    0    0  {'input_ids': [101, 24570, 131, 131, 131, 131,...   \n",
       "1    0    0    0    0  {'input_ids': [101, 2156, 15776, 1181, 142, 78...   \n",
       "2    0    0    0    0  {'input_ids': [101, 24570, 5301, 1183, 12443, ...   \n",
       "3    0    0    0    0  {'input_ids': [101, 1247, 1144, 1151, 2898, 21...   \n",
       "4    0    0    0    0  {'input_ids': [101, 152, 2064, 4538, 8231, 216...   \n",
       "\n",
       "   len_token  data_use  label_p  \n",
       "0        540       Yes  LABEL_1  \n",
       "1        530       Yes  LABEL_1  \n",
       "2        590       Yes  LABEL_1  \n",
       "3        559       Yes  LABEL_1  \n",
       "4        772       Yes  LABEL_1  \n",
       "\n",
       "[5 rows x 265 columns]"
      ]
     },
     "execution_count": 44,
     "metadata": {},
     "output_type": "execute_result"
    }
   ],
   "source": [
    "long_df.head(5)"
   ]
  },
  {
   "cell_type": "code",
   "execution_count": 47,
   "id": "de37ea52",
   "metadata": {},
   "outputs": [
    {
     "data": {
      "text/html": [
       "<div>\n",
       "<style scoped>\n",
       "    .dataframe tbody tr th:only-of-type {\n",
       "        vertical-align: middle;\n",
       "    }\n",
       "\n",
       "    .dataframe tbody tr th {\n",
       "        vertical-align: top;\n",
       "    }\n",
       "\n",
       "    .dataframe thead th {\n",
       "        text-align: right;\n",
       "    }\n",
       "</style>\n",
       "<table border=\"1\" class=\"dataframe\">\n",
       "  <thead>\n",
       "    <tr style=\"text-align: right;\">\n",
       "      <th></th>\n",
       "      <th>dataUseYes</th>\n",
       "    </tr>\n",
       "  </thead>\n",
       "  <tbody>\n",
       "    <tr>\n",
       "      <th>nf</th>\n",
       "      <td>68095</td>\n",
       "    </tr>\n",
       "    <tr>\n",
       "      <th>USA</th>\n",
       "      <td>3056</td>\n",
       "    </tr>\n",
       "    <tr>\n",
       "      <th>CHN</th>\n",
       "      <td>2177</td>\n",
       "    </tr>\n",
       "    <tr>\n",
       "      <th>DEU</th>\n",
       "      <td>1024</td>\n",
       "    </tr>\n",
       "    <tr>\n",
       "      <th>IND</th>\n",
       "      <td>1010</td>\n",
       "    </tr>\n",
       "    <tr>\n",
       "      <th>...</th>\n",
       "      <td>...</td>\n",
       "    </tr>\n",
       "    <tr>\n",
       "      <th>LIE</th>\n",
       "      <td>0</td>\n",
       "    </tr>\n",
       "    <tr>\n",
       "      <th>BES</th>\n",
       "      <td>0</td>\n",
       "    </tr>\n",
       "    <tr>\n",
       "      <th>WLF</th>\n",
       "      <td>0</td>\n",
       "    </tr>\n",
       "    <tr>\n",
       "      <th>TCA</th>\n",
       "      <td>0</td>\n",
       "    </tr>\n",
       "    <tr>\n",
       "      <th>TKL</th>\n",
       "      <td>0</td>\n",
       "    </tr>\n",
       "  </tbody>\n",
       "</table>\n",
       "<p>251 rows × 1 columns</p>\n",
       "</div>"
      ],
      "text/plain": [
       "     dataUseYes\n",
       "nf        68095\n",
       "USA        3056\n",
       "CHN        2177\n",
       "DEU        1024\n",
       "IND        1010\n",
       "..          ...\n",
       "LIE           0\n",
       "BES           0\n",
       "WLF           0\n",
       "TCA           0\n",
       "TKL           0\n",
       "\n",
       "[251 rows x 1 columns]"
      ]
     },
     "execution_count": 47,
     "metadata": {},
     "output_type": "execute_result"
    }
   ],
   "source": [
    "long_df.loc[:,'ABW':'WSM'].sum().to_frame(name = \"dataUseYes\").sort_values(by = \"dataUseYes\", ascending = False)"
   ]
  },
  {
   "cell_type": "code",
   "execution_count": 49,
   "id": "782d1174",
   "metadata": {},
   "outputs": [
    {
     "name": "stderr",
     "output_type": "stream",
     "text": [
      "/home/ec2-user/anaconda3/envs/amazonei_pytorch_latest_p37/lib/python3.7/site-packages/IPython/core/interactiveshell.py:3524: DtypeWarning: Columns (9) have mixed types.Specify dtype option on import or set low_memory=False.\n",
      "  exec(code_obj, self.user_global_ns, self.user_ns)\n"
     ]
    }
   ],
   "source": [
    "df = pd.read_csv('save_half.csv')"
   ]
  },
  {
   "cell_type": "code",
   "execution_count": 52,
   "id": "09c7d104",
   "metadata": {},
   "outputs": [
    {
     "data": {
      "text/html": [
       "<div>\n",
       "<style scoped>\n",
       "    .dataframe tbody tr th:only-of-type {\n",
       "        vertical-align: middle;\n",
       "    }\n",
       "\n",
       "    .dataframe tbody tr th {\n",
       "        vertical-align: top;\n",
       "    }\n",
       "\n",
       "    .dataframe thead th {\n",
       "        text-align: right;\n",
       "    }\n",
       "</style>\n",
       "<table border=\"1\" class=\"dataframe\">\n",
       "  <thead>\n",
       "    <tr style=\"text-align: right;\">\n",
       "      <th></th>\n",
       "      <th>Unnamed: 0</th>\n",
       "      <th>paper_id</th>\n",
       "      <th>title</th>\n",
       "      <th>abstract</th>\n",
       "      <th>year</th>\n",
       "      <th>doi</th>\n",
       "      <th>venue</th>\n",
       "      <th>journal</th>\n",
       "      <th>mag_field_of_study</th>\n",
       "      <th>places</th>\n",
       "      <th>...</th>\n",
       "      <th>MSR</th>\n",
       "      <th>PYF</th>\n",
       "      <th>SPM</th>\n",
       "      <th>SXM</th>\n",
       "      <th>UMI</th>\n",
       "      <th>WSM</th>\n",
       "      <th>tokens</th>\n",
       "      <th>len_token</th>\n",
       "      <th>data_use</th>\n",
       "      <th>label_p</th>\n",
       "    </tr>\n",
       "  </thead>\n",
       "  <tbody>\n",
       "    <tr>\n",
       "      <th>0</th>\n",
       "      <td>0</td>\n",
       "      <td>159350887</td>\n",
       "      <td>No. 8 Cultural and other relations - Mapping C...</td>\n",
       "      <td>Cultural relations between Central Asian and t...</td>\n",
       "      <td>2018</td>\n",
       "      <td>10.17185/duepublico/47242</td>\n",
       "      <td>NaN</td>\n",
       "      <td>NaN</td>\n",
       "      <td>NaN</td>\n",
       "      <td>[India, Japan, South Korea, Iran , Turkey, Sou...</td>\n",
       "      <td>...</td>\n",
       "      <td>0</td>\n",
       "      <td>0</td>\n",
       "      <td>0</td>\n",
       "      <td>0</td>\n",
       "      <td>0</td>\n",
       "      <td>0</td>\n",
       "      <td>{'input_ids': [101, 6651, 4125, 1206, 1970, 31...</td>\n",
       "      <td>234</td>\n",
       "      <td>No</td>\n",
       "      <td>[{'label': 'LABEL_0', 'score': 0.9831673502922...</td>\n",
       "    </tr>\n",
       "    <tr>\n",
       "      <th>1</th>\n",
       "      <td>1</td>\n",
       "      <td>159352431</td>\n",
       "      <td>The Ship Owner's Lien on Sub-freights and Pers...</td>\n",
       "      <td>In the event of default by a head charterer, a...</td>\n",
       "      <td>2014</td>\n",
       "      <td>NaN</td>\n",
       "      <td>NaN</td>\n",
       "      <td>Australian and New Zealand Maritime Law Journal</td>\n",
       "      <td>NaN</td>\n",
       "      <td>[New Zealand, Australia, Canada ]</td>\n",
       "      <td>...</td>\n",
       "      <td>0</td>\n",
       "      <td>0</td>\n",
       "      <td>0</td>\n",
       "      <td>0</td>\n",
       "      <td>0</td>\n",
       "      <td>0</td>\n",
       "      <td>{'input_ids': [101, 1130, 1103, 1856, 1104, 12...</td>\n",
       "      <td>164</td>\n",
       "      <td>No</td>\n",
       "      <td>[{'label': 'LABEL_0', 'score': 0.9654276967048...</td>\n",
       "    </tr>\n",
       "    <tr>\n",
       "      <th>2</th>\n",
       "      <td>2</td>\n",
       "      <td>159355456</td>\n",
       "      <td>An update on model Ayush wellness clinic at pr...</td>\n",
       "      <td>The Government of India has presented an expan...</td>\n",
       "      <td>2018</td>\n",
       "      <td>10.15406/ijcam.2018.11.00389</td>\n",
       "      <td>NaN</td>\n",
       "      <td>International Journal of Complementary and Alt...</td>\n",
       "      <td>NaN</td>\n",
       "      <td>[India , India, Secretariat , Unani, Sidha, In...</td>\n",
       "      <td>...</td>\n",
       "      <td>0</td>\n",
       "      <td>0</td>\n",
       "      <td>0</td>\n",
       "      <td>0</td>\n",
       "      <td>0</td>\n",
       "      <td>0</td>\n",
       "      <td>{'input_ids': [101, 1109, 2384, 1104, 1726, 11...</td>\n",
       "      <td>385</td>\n",
       "      <td>Yes</td>\n",
       "      <td>[{'label': 'LABEL_1', 'score': 0.5357764959335...</td>\n",
       "    </tr>\n",
       "    <tr>\n",
       "      <th>3</th>\n",
       "      <td>3</td>\n",
       "      <td>18980463</td>\n",
       "      <td>Adult and larval photoreceptors use different ...</td>\n",
       "      <td>Although development of the adult Drosophila c...</td>\n",
       "      <td>2007</td>\n",
       "      <td>10.1101/gad.1565407</td>\n",
       "      <td>Genes &amp; development</td>\n",
       "      <td>Genes &amp; development</td>\n",
       "      <td>NaN</td>\n",
       "      <td>[Spalt]</td>\n",
       "      <td>...</td>\n",
       "      <td>0</td>\n",
       "      <td>0</td>\n",
       "      <td>0</td>\n",
       "      <td>0</td>\n",
       "      <td>0</td>\n",
       "      <td>0</td>\n",
       "      <td>{'input_ids': [101, 1966, 1718, 1104, 1103, 44...</td>\n",
       "      <td>304</td>\n",
       "      <td>No</td>\n",
       "      <td>[{'label': 'LABEL_0', 'score': 0.9475196003913...</td>\n",
       "    </tr>\n",
       "    <tr>\n",
       "      <th>4</th>\n",
       "      <td>4</td>\n",
       "      <td>18981358</td>\n",
       "      <td>Rubber hand illusion induced by touching the f...</td>\n",
       "      <td>Background: Studies in animals and humans indi...</td>\n",
       "      <td>2014</td>\n",
       "      <td>10.3389/fnhum.2014.00404</td>\n",
       "      <td>Front. Hum. Neurosci.</td>\n",
       "      <td>NaN</td>\n",
       "      <td>NaN</td>\n",
       "      <td>[]</td>\n",
       "      <td>...</td>\n",
       "      <td>0</td>\n",
       "      <td>0</td>\n",
       "      <td>0</td>\n",
       "      <td>0</td>\n",
       "      <td>0</td>\n",
       "      <td>0</td>\n",
       "      <td>{'input_ids': [101, 24570, 131, 3829, 1107, 35...</td>\n",
       "      <td>383</td>\n",
       "      <td>Yes</td>\n",
       "      <td>[{'label': 'LABEL_1', 'score': 0.9949036836624...</td>\n",
       "    </tr>\n",
       "  </tbody>\n",
       "</table>\n",
       "<p>5 rows × 266 columns</p>\n",
       "</div>"
      ],
      "text/plain": [
       "   Unnamed: 0   paper_id                                              title  \\\n",
       "0           0  159350887  No. 8 Cultural and other relations - Mapping C...   \n",
       "1           1  159352431  The Ship Owner's Lien on Sub-freights and Pers...   \n",
       "2           2  159355456  An update on model Ayush wellness clinic at pr...   \n",
       "3           3   18980463  Adult and larval photoreceptors use different ...   \n",
       "4           4   18981358  Rubber hand illusion induced by touching the f...   \n",
       "\n",
       "                                            abstract  year  \\\n",
       "0  Cultural relations between Central Asian and t...  2018   \n",
       "1  In the event of default by a head charterer, a...  2014   \n",
       "2  The Government of India has presented an expan...  2018   \n",
       "3  Although development of the adult Drosophila c...  2007   \n",
       "4  Background: Studies in animals and humans indi...  2014   \n",
       "\n",
       "                            doi                  venue  \\\n",
       "0     10.17185/duepublico/47242                    NaN   \n",
       "1                           NaN                    NaN   \n",
       "2  10.15406/ijcam.2018.11.00389                    NaN   \n",
       "3           10.1101/gad.1565407    Genes & development   \n",
       "4      10.3389/fnhum.2014.00404  Front. Hum. Neurosci.   \n",
       "\n",
       "                                             journal  mag_field_of_study  \\\n",
       "0                                                NaN                 NaN   \n",
       "1    Australian and New Zealand Maritime Law Journal                 NaN   \n",
       "2  International Journal of Complementary and Alt...                 NaN   \n",
       "3                                Genes & development                 NaN   \n",
       "4                                                NaN                 NaN   \n",
       "\n",
       "                                              places  ... MSR  PYF  SPM  SXM  \\\n",
       "0  [India, Japan, South Korea, Iran , Turkey, Sou...  ...   0    0    0    0   \n",
       "1                  [New Zealand, Australia, Canada ]  ...   0    0    0    0   \n",
       "2  [India , India, Secretariat , Unani, Sidha, In...  ...   0    0    0    0   \n",
       "3                                            [Spalt]  ...   0    0    0    0   \n",
       "4                                                 []  ...   0    0    0    0   \n",
       "\n",
       "   UMI  WSM                                             tokens  len_token  \\\n",
       "0    0    0  {'input_ids': [101, 6651, 4125, 1206, 1970, 31...        234   \n",
       "1    0    0  {'input_ids': [101, 1130, 1103, 1856, 1104, 12...        164   \n",
       "2    0    0  {'input_ids': [101, 1109, 2384, 1104, 1726, 11...        385   \n",
       "3    0    0  {'input_ids': [101, 1966, 1718, 1104, 1103, 44...        304   \n",
       "4    0    0  {'input_ids': [101, 24570, 131, 3829, 1107, 35...        383   \n",
       "\n",
       "   data_use                                            label_p  \n",
       "0        No  [{'label': 'LABEL_0', 'score': 0.9831673502922...  \n",
       "1        No  [{'label': 'LABEL_0', 'score': 0.9654276967048...  \n",
       "2       Yes  [{'label': 'LABEL_1', 'score': 0.5357764959335...  \n",
       "3        No  [{'label': 'LABEL_0', 'score': 0.9475196003913...  \n",
       "4       Yes  [{'label': 'LABEL_1', 'score': 0.9949036836624...  \n",
       "\n",
       "[5 rows x 266 columns]"
      ]
     },
     "execution_count": 52,
     "metadata": {},
     "output_type": "execute_result"
    }
   ],
   "source": [
    "df.head(5)"
   ]
  },
  {
   "cell_type": "code",
   "execution_count": 53,
   "id": "b1cfd78b",
   "metadata": {},
   "outputs": [],
   "source": [
    "df = df.drop(['Unnamed: 0'],axis=1)"
   ]
  },
  {
   "cell_type": "code",
   "execution_count": 54,
   "id": "7bb910df",
   "metadata": {},
   "outputs": [],
   "source": [
    "df_completed = pd.concat([df,long_df],ignore_index=True)"
   ]
  },
  {
   "cell_type": "code",
   "execution_count": 55,
   "id": "cb593c39",
   "metadata": {},
   "outputs": [
    {
     "data": {
      "text/plain": [
       "1037748"
      ]
     },
     "execution_count": 55,
     "metadata": {},
     "output_type": "execute_result"
    }
   ],
   "source": [
    "len(df_completed)"
   ]
  },
  {
   "cell_type": "code",
   "execution_count": 56,
   "id": "b84ac631",
   "metadata": {},
   "outputs": [],
   "source": [
    "df_save = df_completed.drop(['tokens', 'len_token','label_p'],axis=1)"
   ]
  },
  {
   "cell_type": "code",
   "execution_count": 57,
   "id": "e4893481",
   "metadata": {},
   "outputs": [],
   "source": [
    "df_save.to_csv('results_completed.csv')"
   ]
  },
  {
   "cell_type": "code",
   "execution_count": 58,
   "id": "50c69994",
   "metadata": {},
   "outputs": [],
   "source": [
    "df_completed.to_csv('save_half.csv')"
   ]
  },
  {
   "cell_type": "code",
   "execution_count": 74,
   "id": "e69ab5b5",
   "metadata": {},
   "outputs": [
    {
     "data": {
      "text/plain": [
       "Yes    824568\n",
       "No     213180\n",
       "Name: data_use, dtype: int64"
      ]
     },
     "execution_count": 74,
     "metadata": {},
     "output_type": "execute_result"
    }
   ],
   "source": [
    "df_completed['data_use'].value_counts()"
   ]
  },
  {
   "cell_type": "code",
   "execution_count": 70,
   "id": "36f4d262",
   "metadata": {},
   "outputs": [],
   "source": [
    "df_r1 = df_completed.loc[:,'ABW':'WSM'].sum().to_frame(name = \"papers\").sort_values(by = \"papers\", ascending = False)"
   ]
  },
  {
   "cell_type": "code",
   "execution_count": 71,
   "id": "809da01a",
   "metadata": {},
   "outputs": [],
   "source": [
    "df_r2 = df_completed[df_completed['data_use'] =='Yes'].loc[:,'ABW':'WSM'].sum().to_frame(name = \"Use data papers\").sort_values(by = \"Use data papers\", ascending = False)"
   ]
  },
  {
   "cell_type": "code",
   "execution_count": 72,
   "id": "ca8c12f2",
   "metadata": {},
   "outputs": [],
   "source": [
    "result_updated = pd.concat([df_r1,df_r2], axis=1)"
   ]
  },
  {
   "cell_type": "code",
   "execution_count": 73,
   "id": "840fa8e6",
   "metadata": {},
   "outputs": [],
   "source": [
    "result_updated.to_csv('result_update.csv')"
   ]
  },
  {
   "cell_type": "code",
   "execution_count": 99,
   "id": "077d1c82",
   "metadata": {},
   "outputs": [],
   "source": [
    "df_countries=df_completed.loc[:,'ABW':'WSM']"
   ]
  },
  {
   "cell_type": "code",
   "execution_count": 103,
   "id": "d0cac3cd",
   "metadata": {},
   "outputs": [],
   "source": [
    "df_year = df_completed[['year','data_use']]"
   ]
  },
  {
   "cell_type": "code",
   "execution_count": 104,
   "id": "3a48ba59",
   "metadata": {},
   "outputs": [],
   "source": [
    "result_year = pd.concat([df_countries,df_year], axis=1)"
   ]
  },
  {
   "cell_type": "code",
   "execution_count": 134,
   "id": "5d9c6339",
   "metadata": {},
   "outputs": [],
   "source": [
    "result_15 = result_year[['USA','CHN','IND','AUS','JPN','CAN','DEU','BRA','GBR','IRN','ZAF','ITA','NGA','KOR','FRA','year','data_use']]"
   ]
  },
  {
   "cell_type": "code",
   "execution_count": 138,
   "id": "0ddf0e63",
   "metadata": {},
   "outputs": [],
   "source": [
    "result_15.to_csv('result_test.csv')"
   ]
  },
  {
   "cell_type": "code",
   "execution_count": 135,
   "id": "7e5fce8b",
   "metadata": {},
   "outputs": [
    {
     "data": {
      "text/plain": [
       "1037748"
      ]
     },
     "execution_count": 135,
     "metadata": {},
     "output_type": "execute_result"
    }
   ],
   "source": [
    "len(result_15)"
   ]
  },
  {
   "cell_type": "code",
   "execution_count": 139,
   "id": "3f546353",
   "metadata": {},
   "outputs": [
    {
     "data": {
      "text/html": [
       "<div>\n",
       "<style scoped>\n",
       "    .dataframe tbody tr th:only-of-type {\n",
       "        vertical-align: middle;\n",
       "    }\n",
       "\n",
       "    .dataframe tbody tr th {\n",
       "        vertical-align: top;\n",
       "    }\n",
       "\n",
       "    .dataframe thead th {\n",
       "        text-align: right;\n",
       "    }\n",
       "</style>\n",
       "<table border=\"1\" class=\"dataframe\">\n",
       "  <thead>\n",
       "    <tr style=\"text-align: right;\">\n",
       "      <th></th>\n",
       "      <th>USA</th>\n",
       "      <th>CHN</th>\n",
       "      <th>IND</th>\n",
       "      <th>AUS</th>\n",
       "      <th>JPN</th>\n",
       "      <th>CAN</th>\n",
       "      <th>DEU</th>\n",
       "      <th>BRA</th>\n",
       "      <th>GBR</th>\n",
       "      <th>IRN</th>\n",
       "      <th>ZAF</th>\n",
       "      <th>ITA</th>\n",
       "      <th>NGA</th>\n",
       "      <th>KOR</th>\n",
       "      <th>FRA</th>\n",
       "      <th>year</th>\n",
       "      <th>data_use</th>\n",
       "    </tr>\n",
       "  </thead>\n",
       "  <tbody>\n",
       "    <tr>\n",
       "      <th>0</th>\n",
       "      <td>0</td>\n",
       "      <td>0</td>\n",
       "      <td>1</td>\n",
       "      <td>0</td>\n",
       "      <td>1</td>\n",
       "      <td>0</td>\n",
       "      <td>0</td>\n",
       "      <td>0</td>\n",
       "      <td>0</td>\n",
       "      <td>1</td>\n",
       "      <td>0</td>\n",
       "      <td>0</td>\n",
       "      <td>0</td>\n",
       "      <td>1</td>\n",
       "      <td>0</td>\n",
       "      <td>2018</td>\n",
       "      <td>No</td>\n",
       "    </tr>\n",
       "    <tr>\n",
       "      <th>1</th>\n",
       "      <td>0</td>\n",
       "      <td>0</td>\n",
       "      <td>0</td>\n",
       "      <td>1</td>\n",
       "      <td>0</td>\n",
       "      <td>1</td>\n",
       "      <td>0</td>\n",
       "      <td>0</td>\n",
       "      <td>0</td>\n",
       "      <td>0</td>\n",
       "      <td>0</td>\n",
       "      <td>0</td>\n",
       "      <td>0</td>\n",
       "      <td>0</td>\n",
       "      <td>0</td>\n",
       "      <td>2014</td>\n",
       "      <td>No</td>\n",
       "    </tr>\n",
       "    <tr>\n",
       "      <th>2</th>\n",
       "      <td>0</td>\n",
       "      <td>0</td>\n",
       "      <td>1</td>\n",
       "      <td>0</td>\n",
       "      <td>0</td>\n",
       "      <td>0</td>\n",
       "      <td>0</td>\n",
       "      <td>0</td>\n",
       "      <td>0</td>\n",
       "      <td>0</td>\n",
       "      <td>0</td>\n",
       "      <td>0</td>\n",
       "      <td>0</td>\n",
       "      <td>0</td>\n",
       "      <td>0</td>\n",
       "      <td>2018</td>\n",
       "      <td>Yes</td>\n",
       "    </tr>\n",
       "    <tr>\n",
       "      <th>3</th>\n",
       "      <td>0</td>\n",
       "      <td>0</td>\n",
       "      <td>0</td>\n",
       "      <td>0</td>\n",
       "      <td>0</td>\n",
       "      <td>0</td>\n",
       "      <td>0</td>\n",
       "      <td>0</td>\n",
       "      <td>0</td>\n",
       "      <td>0</td>\n",
       "      <td>0</td>\n",
       "      <td>0</td>\n",
       "      <td>0</td>\n",
       "      <td>0</td>\n",
       "      <td>0</td>\n",
       "      <td>2007</td>\n",
       "      <td>No</td>\n",
       "    </tr>\n",
       "    <tr>\n",
       "      <th>4</th>\n",
       "      <td>0</td>\n",
       "      <td>0</td>\n",
       "      <td>0</td>\n",
       "      <td>0</td>\n",
       "      <td>0</td>\n",
       "      <td>0</td>\n",
       "      <td>0</td>\n",
       "      <td>0</td>\n",
       "      <td>0</td>\n",
       "      <td>0</td>\n",
       "      <td>0</td>\n",
       "      <td>0</td>\n",
       "      <td>0</td>\n",
       "      <td>0</td>\n",
       "      <td>0</td>\n",
       "      <td>2014</td>\n",
       "      <td>Yes</td>\n",
       "    </tr>\n",
       "  </tbody>\n",
       "</table>\n",
       "</div>"
      ],
      "text/plain": [
       "   USA  CHN  IND  AUS  JPN  CAN  DEU  BRA  GBR  IRN  ZAF  ITA  NGA  KOR  FRA  \\\n",
       "0    0    0    1    0    1    0    0    0    0    1    0    0    0    1    0   \n",
       "1    0    0    0    1    0    1    0    0    0    0    0    0    0    0    0   \n",
       "2    0    0    1    0    0    0    0    0    0    0    0    0    0    0    0   \n",
       "3    0    0    0    0    0    0    0    0    0    0    0    0    0    0    0   \n",
       "4    0    0    0    0    0    0    0    0    0    0    0    0    0    0    0   \n",
       "\n",
       "   year data_use  \n",
       "0  2018       No  \n",
       "1  2014       No  \n",
       "2  2018      Yes  \n",
       "3  2007       No  \n",
       "4  2014      Yes  "
      ]
     },
     "execution_count": 139,
     "metadata": {},
     "output_type": "execute_result"
    }
   ],
   "source": [
    "result_15.head(5)"
   ]
  },
  {
   "cell_type": "code",
   "execution_count": 142,
   "id": "db6be361",
   "metadata": {},
   "outputs": [],
   "source": [
    "result_15.groupby('year').sum().to_csv('result_test_15.csv')"
   ]
  },
  {
   "cell_type": "code",
   "execution_count": 145,
   "id": "361b0343",
   "metadata": {},
   "outputs": [],
   "source": [
    "result_year[result_year['data_use']=='Yes'][['USA','CHN','IND','AUS','JPN','CAN','DEU','BRA','GBR','IRN','ZAF','ITA','NGA','KOR','FRA','year','data_use']].groupby('year').sum().to_csv('result_data_15.csv')"
   ]
  },
  {
   "cell_type": "code",
   "execution_count": null,
   "id": "232676b5",
   "metadata": {},
   "outputs": [],
   "source": []
  }
 ],
 "metadata": {
  "kernelspec": {
   "display_name": "Python 3.9.13 64-bit (microsoft store)",
   "language": "python",
   "name": "python3"
  },
  "language_info": {
   "codemirror_mode": {
    "name": "ipython",
    "version": 3
   },
   "file_extension": ".py",
   "mimetype": "text/x-python",
   "name": "python",
   "nbconvert_exporter": "python",
   "pygments_lexer": "ipython3",
   "version": "3.9.13"
  },
  "vscode": {
   "interpreter": {
    "hash": "eebd40a25d67f15848f448509c1bb6dc534d82253a513ae5c11357d91db0c602"
   }
  }
 },
 "nbformat": 4,
 "nbformat_minor": 5
}
